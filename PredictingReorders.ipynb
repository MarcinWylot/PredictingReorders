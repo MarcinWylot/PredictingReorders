{
  "nbformat": 4,
  "nbformat_minor": 0,
  "metadata": {
    "colab": {
      "name": "PredictingReorders.ipynb",
      "version": "0.3.2",
      "provenance": [],
      "collapsed_sections": [],
      "include_colab_link": true
    },
    "kernelspec": {
      "name": "python3",
      "display_name": "Python 3"
    }
  },
  "cells": [
    {
      "cell_type": "markdown",
      "metadata": {
        "id": "view-in-github",
        "colab_type": "text"
      },
      "source": [
        "[View in Colaboratory](https://colab.research.google.com/github/MarcinWylot/PredictingReorders/blob/master/PredictingReorders.ipynb)"
      ]
    },
    {
      "metadata": {
        "id": "QmUnpVGtbSJ_",
        "colab_type": "text"
      },
      "cell_type": "markdown",
      "source": [
        "**GOAL**: Build a model that predicts when given product will be ordered again.\n",
        "\n",
        "**DATASET**: [Online Retail Data Set ](https://archive.ics.uci.edu/ml/datasets/online+retail)"
      ]
    },
    {
      "metadata": {
        "id": "9jSaYRUOyqra",
        "colab_type": "text"
      },
      "cell_type": "markdown",
      "source": [
        "First we need to download our dataset, I have it on my google drive. "
      ]
    },
    {
      "metadata": {
        "id": "wnBYj6DMWd6O",
        "colab_type": "code",
        "colab": {
          "base_uri": "https://localhost:8080/",
          "height": 119
        },
        "outputId": "610d69d4-bec8-4a92-bb5d-d25265c732cf"
      },
      "cell_type": "code",
      "source": [
        "\n",
        "!pip install -U -q PyDrive\n",
        "\n",
        "from pydrive.auth import GoogleAuth\n",
        "from pydrive.drive import GoogleDrive\n",
        "from google.colab import auth\n",
        "from oauth2client.client import GoogleCredentials\n",
        "\n",
        "#Authenticate and create the PyDrive client.\n",
        "auth.authenticate_user()\n",
        "gauth = GoogleAuth()\n",
        "gauth.credentials = GoogleCredentials.get_application_default()\n",
        "drive = GoogleDrive(gauth)\n",
        "\n",
        "#download my file\n",
        "!rm retail_data*\n",
        "downloaded = drive.CreateFile({'id': '1bgr8z7CGeW8pwvKV8kFLFumMFqRcmhFg'})\n",
        "downloaded.GetContentFile('./retail_data_2.zip')\n",
        "!unzip retail_data_2.zip\n",
        "!ls -hl"
      ],
      "execution_count": 1,
      "outputs": [
        {
          "output_type": "stream",
          "text": [
            "Archive:  retail_data_2.zip\n",
            "  inflating: retail_data.csv         \n",
            "total 52M\n",
            "drwxr-xr-x 1 root root 4.0K Jul 17 08:59 datalab\n",
            "-rw-r--r-- 1 root root 6.9M Jul 17 14:30 retail_data_2.zip\n",
            "-rw-rw-r-- 1 root root  45M May 14 10:47 retail_data.csv\n"
          ],
          "name": "stdout"
        }
      ]
    },
    {
      "metadata": {
        "id": "vbvONAD2Hvp0",
        "colab_type": "code",
        "colab": {
          "base_uri": "https://localhost:8080/",
          "height": 153
        },
        "outputId": "d5ca2836-0dd1-4174-fa65-3828bb974e3e"
      },
      "cell_type": "code",
      "source": [
        "!df -h"
      ],
      "execution_count": 2,
      "outputs": [
        {
          "output_type": "stream",
          "text": [
            "Filesystem      Size  Used Avail Use% Mounted on\r\n",
            "overlay          40G  5.2G   32G  14% /\r\n",
            "tmpfs           6.4G     0  6.4G   0% /dev\r\n",
            "tmpfs           6.4G     0  6.4G   0% /sys/fs/cgroup\r\n",
            "tmpfs           6.4G     0  6.4G   0% /opt/bin\r\n",
            "/dev/sda1        46G  5.9G   40G  14% /etc/hosts\r\n",
            "shm              64M     0   64M   0% /dev/shm\r\n",
            "tmpfs           6.4G     0  6.4G   0% /sys/firmware\r\n"
          ],
          "name": "stdout"
        }
      ]
    },
    {
      "metadata": {
        "id": "hik1J8uRy9CJ",
        "colab_type": "text"
      },
      "cell_type": "markdown",
      "source": [
        "Let's load data to DataFrame and see what we have there"
      ]
    },
    {
      "metadata": {
        "id": "725HKRrCisKB",
        "colab_type": "code",
        "colab": {
          "base_uri": "https://localhost:8080/",
          "height": 204
        },
        "outputId": "77d58ecb-f3c2-4919-fe61-c9f6668c04b4"
      },
      "cell_type": "code",
      "source": [
        "import numpy as np\n",
        "import pandas as pd \n",
        "import matplotlib.pyplot as plt\n",
        "import seaborn as sns \n",
        "\n",
        "\n",
        "data = pd.read_csv('./retail_data.csv')\n",
        "data.head()"
      ],
      "execution_count": 3,
      "outputs": [
        {
          "output_type": "execute_result",
          "data": {
            "text/html": [
              "<div>\n",
              "<style scoped>\n",
              "    .dataframe tbody tr th:only-of-type {\n",
              "        vertical-align: middle;\n",
              "    }\n",
              "\n",
              "    .dataframe tbody tr th {\n",
              "        vertical-align: top;\n",
              "    }\n",
              "\n",
              "    .dataframe thead th {\n",
              "        text-align: right;\n",
              "    }\n",
              "</style>\n",
              "<table border=\"1\" class=\"dataframe\">\n",
              "  <thead>\n",
              "    <tr style=\"text-align: right;\">\n",
              "      <th></th>\n",
              "      <th>InvoiceNo</th>\n",
              "      <th>StockCode</th>\n",
              "      <th>Description</th>\n",
              "      <th>Quantity</th>\n",
              "      <th>InvoiceDate</th>\n",
              "      <th>UnitPrice</th>\n",
              "      <th>CustomerID</th>\n",
              "      <th>Country</th>\n",
              "    </tr>\n",
              "  </thead>\n",
              "  <tbody>\n",
              "    <tr>\n",
              "      <th>0</th>\n",
              "      <td>1</td>\n",
              "      <td>85123A</td>\n",
              "      <td>WHITE HANGING HEART T-LIGHT HOLDER</td>\n",
              "      <td>6</td>\n",
              "      <td>2010-12-01 08:26:00</td>\n",
              "      <td>2.55</td>\n",
              "      <td>5504.0</td>\n",
              "      <td>United Kingdom</td>\n",
              "    </tr>\n",
              "    <tr>\n",
              "      <th>1</th>\n",
              "      <td>1</td>\n",
              "      <td>71053</td>\n",
              "      <td>WHITE METAL LANTERN</td>\n",
              "      <td>6</td>\n",
              "      <td>2010-12-01 08:26:00</td>\n",
              "      <td>3.39</td>\n",
              "      <td>5504.0</td>\n",
              "      <td>United Kingdom</td>\n",
              "    </tr>\n",
              "    <tr>\n",
              "      <th>2</th>\n",
              "      <td>1</td>\n",
              "      <td>84406B</td>\n",
              "      <td>CREAM CUPID HEARTS COAT HANGER</td>\n",
              "      <td>8</td>\n",
              "      <td>2010-12-01 08:26:00</td>\n",
              "      <td>2.75</td>\n",
              "      <td>5504.0</td>\n",
              "      <td>United Kingdom</td>\n",
              "    </tr>\n",
              "    <tr>\n",
              "      <th>3</th>\n",
              "      <td>1</td>\n",
              "      <td>84029G</td>\n",
              "      <td>KNITTED UNION FLAG HOT WATER BOTTLE</td>\n",
              "      <td>6</td>\n",
              "      <td>2010-12-01 08:26:00</td>\n",
              "      <td>3.39</td>\n",
              "      <td>5504.0</td>\n",
              "      <td>United Kingdom</td>\n",
              "    </tr>\n",
              "    <tr>\n",
              "      <th>4</th>\n",
              "      <td>1</td>\n",
              "      <td>84029E</td>\n",
              "      <td>RED WOOLLY HOTTIE WHITE HEART.</td>\n",
              "      <td>6</td>\n",
              "      <td>2010-12-01 08:26:00</td>\n",
              "      <td>3.39</td>\n",
              "      <td>5504.0</td>\n",
              "      <td>United Kingdom</td>\n",
              "    </tr>\n",
              "  </tbody>\n",
              "</table>\n",
              "</div>"
            ],
            "text/plain": [
              "   InvoiceNo StockCode                          Description  Quantity  \\\n",
              "0          1    85123A   WHITE HANGING HEART T-LIGHT HOLDER         6   \n",
              "1          1     71053                  WHITE METAL LANTERN         6   \n",
              "2          1    84406B       CREAM CUPID HEARTS COAT HANGER         8   \n",
              "3          1    84029G  KNITTED UNION FLAG HOT WATER BOTTLE         6   \n",
              "4          1    84029E       RED WOOLLY HOTTIE WHITE HEART.         6   \n",
              "\n",
              "           InvoiceDate  UnitPrice  CustomerID         Country  \n",
              "0  2010-12-01 08:26:00       2.55      5504.0  United Kingdom  \n",
              "1  2010-12-01 08:26:00       3.39      5504.0  United Kingdom  \n",
              "2  2010-12-01 08:26:00       2.75      5504.0  United Kingdom  \n",
              "3  2010-12-01 08:26:00       3.39      5504.0  United Kingdom  \n",
              "4  2010-12-01 08:26:00       3.39      5504.0  United Kingdom  "
            ]
          },
          "metadata": {
            "tags": []
          },
          "execution_count": 3
        }
      ]
    },
    {
      "metadata": {
        "id": "69QVwi-mxS2E",
        "colab_type": "text"
      },
      "cell_type": "markdown",
      "source": [
        "let's check is we're dafe with NaNs"
      ]
    },
    {
      "metadata": {
        "id": "3vYINoKTw2-6",
        "colab_type": "code",
        "colab": {
          "base_uri": "https://localhost:8080/",
          "height": 170
        },
        "outputId": "e54f588e-204c-4b4e-e4e4-5e3e111e845a"
      },
      "cell_type": "code",
      "source": [
        "data.isnull().any(axis=0)"
      ],
      "execution_count": 4,
      "outputs": [
        {
          "output_type": "execute_result",
          "data": {
            "text/plain": [
              "InvoiceNo      False\n",
              "StockCode      False\n",
              "Description     True\n",
              "Quantity       False\n",
              "InvoiceDate    False\n",
              "UnitPrice      False\n",
              "CustomerID      True\n",
              "Country        False\n",
              "dtype: bool"
            ]
          },
          "metadata": {
            "tags": []
          },
          "execution_count": 4
        }
      ]
    },
    {
      "metadata": {
        "id": "w9ocWEATKJ4_",
        "colab_type": "text"
      },
      "cell_type": "markdown",
      "source": [
        "# Feature Engineering "
      ]
    },
    {
      "metadata": {
        "id": "j_u9FeCmoqO5",
        "colab_type": "text"
      },
      "cell_type": "markdown",
      "source": [
        "Let's see how hot are the items, a quick values count  adding  frequencies"
      ]
    },
    {
      "metadata": {
        "id": "4SrkxUZljxrX",
        "colab_type": "code",
        "colab": {
          "base_uri": "https://localhost:8080/",
          "height": 204
        },
        "outputId": "c5b432d3-adb4-46c4-e293-82a6e2b5d7f0"
      },
      "cell_type": "code",
      "source": [
        "data['freq'] = data.groupby('StockCode')['StockCode'].transform('count')\n",
        "data.head()"
      ],
      "execution_count": 5,
      "outputs": [
        {
          "output_type": "execute_result",
          "data": {
            "text/html": [
              "<div>\n",
              "<style scoped>\n",
              "    .dataframe tbody tr th:only-of-type {\n",
              "        vertical-align: middle;\n",
              "    }\n",
              "\n",
              "    .dataframe tbody tr th {\n",
              "        vertical-align: top;\n",
              "    }\n",
              "\n",
              "    .dataframe thead th {\n",
              "        text-align: right;\n",
              "    }\n",
              "</style>\n",
              "<table border=\"1\" class=\"dataframe\">\n",
              "  <thead>\n",
              "    <tr style=\"text-align: right;\">\n",
              "      <th></th>\n",
              "      <th>InvoiceNo</th>\n",
              "      <th>StockCode</th>\n",
              "      <th>Description</th>\n",
              "      <th>Quantity</th>\n",
              "      <th>InvoiceDate</th>\n",
              "      <th>UnitPrice</th>\n",
              "      <th>CustomerID</th>\n",
              "      <th>Country</th>\n",
              "      <th>freq</th>\n",
              "    </tr>\n",
              "  </thead>\n",
              "  <tbody>\n",
              "    <tr>\n",
              "      <th>0</th>\n",
              "      <td>1</td>\n",
              "      <td>85123A</td>\n",
              "      <td>WHITE HANGING HEART T-LIGHT HOLDER</td>\n",
              "      <td>6</td>\n",
              "      <td>2010-12-01 08:26:00</td>\n",
              "      <td>2.55</td>\n",
              "      <td>5504.0</td>\n",
              "      <td>United Kingdom</td>\n",
              "      <td>2313</td>\n",
              "    </tr>\n",
              "    <tr>\n",
              "      <th>1</th>\n",
              "      <td>1</td>\n",
              "      <td>71053</td>\n",
              "      <td>WHITE METAL LANTERN</td>\n",
              "      <td>6</td>\n",
              "      <td>2010-12-01 08:26:00</td>\n",
              "      <td>3.39</td>\n",
              "      <td>5504.0</td>\n",
              "      <td>United Kingdom</td>\n",
              "      <td>355</td>\n",
              "    </tr>\n",
              "    <tr>\n",
              "      <th>2</th>\n",
              "      <td>1</td>\n",
              "      <td>84406B</td>\n",
              "      <td>CREAM CUPID HEARTS COAT HANGER</td>\n",
              "      <td>8</td>\n",
              "      <td>2010-12-01 08:26:00</td>\n",
              "      <td>2.75</td>\n",
              "      <td>5504.0</td>\n",
              "      <td>United Kingdom</td>\n",
              "      <td>296</td>\n",
              "    </tr>\n",
              "    <tr>\n",
              "      <th>3</th>\n",
              "      <td>1</td>\n",
              "      <td>84029G</td>\n",
              "      <td>KNITTED UNION FLAG HOT WATER BOTTLE</td>\n",
              "      <td>6</td>\n",
              "      <td>2010-12-01 08:26:00</td>\n",
              "      <td>3.39</td>\n",
              "      <td>5504.0</td>\n",
              "      <td>United Kingdom</td>\n",
              "      <td>474</td>\n",
              "    </tr>\n",
              "    <tr>\n",
              "      <th>4</th>\n",
              "      <td>1</td>\n",
              "      <td>84029E</td>\n",
              "      <td>RED WOOLLY HOTTIE WHITE HEART.</td>\n",
              "      <td>6</td>\n",
              "      <td>2010-12-01 08:26:00</td>\n",
              "      <td>3.39</td>\n",
              "      <td>5504.0</td>\n",
              "      <td>United Kingdom</td>\n",
              "      <td>452</td>\n",
              "    </tr>\n",
              "  </tbody>\n",
              "</table>\n",
              "</div>"
            ],
            "text/plain": [
              "   InvoiceNo StockCode                          Description  Quantity  \\\n",
              "0          1    85123A   WHITE HANGING HEART T-LIGHT HOLDER         6   \n",
              "1          1     71053                  WHITE METAL LANTERN         6   \n",
              "2          1    84406B       CREAM CUPID HEARTS COAT HANGER         8   \n",
              "3          1    84029G  KNITTED UNION FLAG HOT WATER BOTTLE         6   \n",
              "4          1    84029E       RED WOOLLY HOTTIE WHITE HEART.         6   \n",
              "\n",
              "           InvoiceDate  UnitPrice  CustomerID         Country  freq  \n",
              "0  2010-12-01 08:26:00       2.55      5504.0  United Kingdom  2313  \n",
              "1  2010-12-01 08:26:00       3.39      5504.0  United Kingdom   355  \n",
              "2  2010-12-01 08:26:00       2.75      5504.0  United Kingdom   296  \n",
              "3  2010-12-01 08:26:00       3.39      5504.0  United Kingdom   474  \n",
              "4  2010-12-01 08:26:00       3.39      5504.0  United Kingdom   452  "
            ]
          },
          "metadata": {
            "tags": []
          },
          "execution_count": 5
        }
      ]
    },
    {
      "metadata": {
        "id": "KMHohajaD22p",
        "colab_type": "text"
      },
      "cell_type": "markdown",
      "source": [
        "Ok, so now let's calculate the time interval from the last order of a particulat item\n",
        "\n",
        "this is essentially what we will try to predict, in what time interval from last order for a partucilat product we will see it ordered again \n",
        "\n",
        "additionally we clean a bit the data, negative time intervals are set to -1"
      ]
    },
    {
      "metadata": {
        "id": "Hg1LK10VnagK",
        "colab_type": "code",
        "colab": {
          "base_uri": "https://localhost:8080/",
          "height": 289
        },
        "outputId": "6e1e2a94-692d-4f2d-dd23-772c3814c7c3"
      },
      "cell_type": "code",
      "source": [
        "import datetime\n",
        "\n",
        "data['InvoiceDate'] = pd.to_datetime(data['InvoiceDate'])\n",
        "\n",
        "data['time_from_last_order'] =\\\n",
        "  data.sort_values(['StockCode','InvoiceDate']).groupby('StockCode').InvoiceDate\\\n",
        "  .diff()\\\n",
        "  .apply(lambda x: x.seconds if x >= pd.Timedelta(0) else -1.0)\n",
        "data.sort_values(['StockCode','InvoiceDate']).head()"
      ],
      "execution_count": 6,
      "outputs": [
        {
          "output_type": "execute_result",
          "data": {
            "text/html": [
              "<div>\n",
              "<style scoped>\n",
              "    .dataframe tbody tr th:only-of-type {\n",
              "        vertical-align: middle;\n",
              "    }\n",
              "\n",
              "    .dataframe tbody tr th {\n",
              "        vertical-align: top;\n",
              "    }\n",
              "\n",
              "    .dataframe thead th {\n",
              "        text-align: right;\n",
              "    }\n",
              "</style>\n",
              "<table border=\"1\" class=\"dataframe\">\n",
              "  <thead>\n",
              "    <tr style=\"text-align: right;\">\n",
              "      <th></th>\n",
              "      <th>InvoiceNo</th>\n",
              "      <th>StockCode</th>\n",
              "      <th>Description</th>\n",
              "      <th>Quantity</th>\n",
              "      <th>InvoiceDate</th>\n",
              "      <th>UnitPrice</th>\n",
              "      <th>CustomerID</th>\n",
              "      <th>Country</th>\n",
              "      <th>freq</th>\n",
              "      <th>time_from_last_order</th>\n",
              "    </tr>\n",
              "  </thead>\n",
              "  <tbody>\n",
              "    <tr>\n",
              "      <th>31</th>\n",
              "      <td>6</td>\n",
              "      <td>10002</td>\n",
              "      <td>INFLATABLE POLITICAL GLOBE</td>\n",
              "      <td>48</td>\n",
              "      <td>2010-12-01 08:45:00</td>\n",
              "      <td>0.85</td>\n",
              "      <td>237.0</td>\n",
              "      <td>France</td>\n",
              "      <td>73</td>\n",
              "      <td>-1.0</td>\n",
              "    </tr>\n",
              "    <tr>\n",
              "      <th>142</th>\n",
              "      <td>18</td>\n",
              "      <td>10002</td>\n",
              "      <td>INFLATABLE POLITICAL GLOBE</td>\n",
              "      <td>12</td>\n",
              "      <td>2010-12-01 09:45:00</td>\n",
              "      <td>0.85</td>\n",
              "      <td>3752.0</td>\n",
              "      <td>United Kingdom</td>\n",
              "      <td>73</td>\n",
              "      <td>3600.0</td>\n",
              "    </tr>\n",
              "    <tr>\n",
              "      <th>4272</th>\n",
              "      <td>392</td>\n",
              "      <td>10002</td>\n",
              "      <td>INFLATABLE POLITICAL GLOBE</td>\n",
              "      <td>1</td>\n",
              "      <td>2010-12-02 14:23:00</td>\n",
              "      <td>0.85</td>\n",
              "      <td>NaN</td>\n",
              "      <td>United Kingdom</td>\n",
              "      <td>73</td>\n",
              "      <td>16680.0</td>\n",
              "    </tr>\n",
              "    <tr>\n",
              "      <th>5466</th>\n",
              "      <td>499</td>\n",
              "      <td>10002</td>\n",
              "      <td>INFLATABLE POLITICAL GLOBE</td>\n",
              "      <td>1</td>\n",
              "      <td>2010-12-03 11:19:00</td>\n",
              "      <td>0.85</td>\n",
              "      <td>5621.0</td>\n",
              "      <td>United Kingdom</td>\n",
              "      <td>73</td>\n",
              "      <td>75360.0</td>\n",
              "    </tr>\n",
              "    <tr>\n",
              "      <th>5546</th>\n",
              "      <td>501</td>\n",
              "      <td>10002</td>\n",
              "      <td>INFLATABLE POLITICAL GLOBE</td>\n",
              "      <td>5</td>\n",
              "      <td>2010-12-03 11:28:00</td>\n",
              "      <td>1.66</td>\n",
              "      <td>NaN</td>\n",
              "      <td>United Kingdom</td>\n",
              "      <td>73</td>\n",
              "      <td>540.0</td>\n",
              "    </tr>\n",
              "  </tbody>\n",
              "</table>\n",
              "</div>"
            ],
            "text/plain": [
              "      InvoiceNo StockCode                  Description  Quantity  \\\n",
              "31            6     10002  INFLATABLE POLITICAL GLOBE         48   \n",
              "142          18     10002  INFLATABLE POLITICAL GLOBE         12   \n",
              "4272        392     10002  INFLATABLE POLITICAL GLOBE          1   \n",
              "5466        499     10002  INFLATABLE POLITICAL GLOBE          1   \n",
              "5546        501     10002  INFLATABLE POLITICAL GLOBE          5   \n",
              "\n",
              "             InvoiceDate  UnitPrice  CustomerID         Country  freq  \\\n",
              "31   2010-12-01 08:45:00       0.85       237.0          France    73   \n",
              "142  2010-12-01 09:45:00       0.85      3752.0  United Kingdom    73   \n",
              "4272 2010-12-02 14:23:00       0.85         NaN  United Kingdom    73   \n",
              "5466 2010-12-03 11:19:00       0.85      5621.0  United Kingdom    73   \n",
              "5546 2010-12-03 11:28:00       1.66         NaN  United Kingdom    73   \n",
              "\n",
              "      time_from_last_order  \n",
              "31                    -1.0  \n",
              "142                 3600.0  \n",
              "4272               16680.0  \n",
              "5466               75360.0  \n",
              "5546                 540.0  "
            ]
          },
          "metadata": {
            "tags": []
          },
          "execution_count": 6
        }
      ]
    },
    {
      "metadata": {
        "id": "JNdchVF7X2IQ",
        "colab_type": "text"
      },
      "cell_type": "markdown",
      "source": [
        "Time between orders in whcih an item occurs, we take into accont past 3 orders. \n",
        "This is to capdute dynamicity of orders for a product.\n",
        "\n",
        "These features will give us a picture how often the item recently apeared in baskets (just 3 last orders)"
      ]
    },
    {
      "metadata": {
        "id": "PQMAIuP8D-jr",
        "colab_type": "code",
        "colab": {
          "base_uri": "https://localhost:8080/",
          "height": 255
        },
        "outputId": "5be66369-fda2-4e0b-a192-04b3a0b848b6"
      },
      "cell_type": "code",
      "source": [
        "data['time_from_last_order_t-1'] = data.sort_values(['StockCode','InvoiceDate']).groupby('StockCode').time_from_last_order.shift(1).apply(lambda x: x if x >= 0 else -1.0)\n",
        "data['time_from_last_order_t-2'] = data.sort_values(['StockCode','InvoiceDate']).groupby('StockCode').time_from_last_order.shift(2).apply(lambda x: x if x >= 0 else -1.0)\n",
        "data['time_from_last_order_t-3'] = data.sort_values(['StockCode','InvoiceDate']).groupby('StockCode').time_from_last_order.shift(3).apply(lambda x: x if x >= 0 else -1.0)\n",
        "data.isnull().any(axis=0)"
      ],
      "execution_count": 7,
      "outputs": [
        {
          "output_type": "execute_result",
          "data": {
            "text/plain": [
              "InvoiceNo                   False\n",
              "StockCode                   False\n",
              "Description                  True\n",
              "Quantity                    False\n",
              "InvoiceDate                 False\n",
              "UnitPrice                   False\n",
              "CustomerID                   True\n",
              "Country                     False\n",
              "freq                        False\n",
              "time_from_last_order        False\n",
              "time_from_last_order_t-1    False\n",
              "time_from_last_order_t-2    False\n",
              "time_from_last_order_t-3    False\n",
              "dtype: bool"
            ]
          },
          "metadata": {
            "tags": []
          },
          "execution_count": 7
        }
      ]
    },
    {
      "metadata": {
        "id": "cQJZCrwTZEeA",
        "colab_type": "text"
      },
      "cell_type": "markdown",
      "source": [
        "Now we add some stats around products and time elapesd from their last orders\n",
        "\n",
        "max is easy to aggragate \n",
        "\n",
        "for others we want to take into account only positive time deltas, as there can be some NaT or -1 which we use to mark the first time orders "
      ]
    },
    {
      "metadata": {
        "id": "q5--FxhTZDq9",
        "colab_type": "code",
        "colab": {
          "base_uri": "https://localhost:8080/",
          "height": 547
        },
        "outputId": "a236645f-8779-45da-88ed-f13c184d3f03"
      },
      "cell_type": "code",
      "source": [
        "sts = data.groupby('StockCode').time_from_last_order.max().to_frame()\n",
        "sts.columns = ['time_from_last_order_max']\n",
        "sts['time_from_last_order_min'] = data.groupby('StockCode').time_from_last_order.agg([lambda x: x[x >= 0].min()])\n",
        "sts['time_from_last_order_median'] = data.groupby('StockCode').time_from_last_order.agg([lambda x: x[x >= 0].median()])\n",
        "sts['time_from_last_order_mean'] = data.groupby('StockCode').time_from_last_order.agg([lambda x: x[x >= 0].mean()])\n",
        "sts.fillna(-1.0,inplace=True)\n",
        "sts.reset_index(inplace=True)\n",
        "data = data.merge(sts, on='StockCode', how='left', copy=False)\n",
        "data.head()"
      ],
      "execution_count": 8,
      "outputs": [
        {
          "output_type": "execute_result",
          "data": {
            "text/html": [
              "<div>\n",
              "<style scoped>\n",
              "    .dataframe tbody tr th:only-of-type {\n",
              "        vertical-align: middle;\n",
              "    }\n",
              "\n",
              "    .dataframe tbody tr th {\n",
              "        vertical-align: top;\n",
              "    }\n",
              "\n",
              "    .dataframe thead th {\n",
              "        text-align: right;\n",
              "    }\n",
              "</style>\n",
              "<table border=\"1\" class=\"dataframe\">\n",
              "  <thead>\n",
              "    <tr style=\"text-align: right;\">\n",
              "      <th></th>\n",
              "      <th>InvoiceNo</th>\n",
              "      <th>StockCode</th>\n",
              "      <th>Description</th>\n",
              "      <th>Quantity</th>\n",
              "      <th>InvoiceDate</th>\n",
              "      <th>UnitPrice</th>\n",
              "      <th>CustomerID</th>\n",
              "      <th>Country</th>\n",
              "      <th>freq</th>\n",
              "      <th>time_from_last_order</th>\n",
              "      <th>time_from_last_order_t-1</th>\n",
              "      <th>time_from_last_order_t-2</th>\n",
              "      <th>time_from_last_order_t-3</th>\n",
              "      <th>time_from_last_order_max</th>\n",
              "      <th>time_from_last_order_min</th>\n",
              "      <th>time_from_last_order_median</th>\n",
              "      <th>time_from_last_order_mean</th>\n",
              "    </tr>\n",
              "  </thead>\n",
              "  <tbody>\n",
              "    <tr>\n",
              "      <th>0</th>\n",
              "      <td>1</td>\n",
              "      <td>85123A</td>\n",
              "      <td>WHITE HANGING HEART T-LIGHT HOLDER</td>\n",
              "      <td>6</td>\n",
              "      <td>2010-12-01 08:26:00</td>\n",
              "      <td>2.55</td>\n",
              "      <td>5504.0</td>\n",
              "      <td>United Kingdom</td>\n",
              "      <td>2313</td>\n",
              "      <td>-1.0</td>\n",
              "      <td>-1.0</td>\n",
              "      <td>-1.0</td>\n",
              "      <td>-1.0</td>\n",
              "      <td>84900.0</td>\n",
              "      <td>0.0</td>\n",
              "      <td>2700.0</td>\n",
              "      <td>11253.321799</td>\n",
              "    </tr>\n",
              "    <tr>\n",
              "      <th>1</th>\n",
              "      <td>1</td>\n",
              "      <td>71053</td>\n",
              "      <td>WHITE METAL LANTERN</td>\n",
              "      <td>6</td>\n",
              "      <td>2010-12-01 08:26:00</td>\n",
              "      <td>3.39</td>\n",
              "      <td>5504.0</td>\n",
              "      <td>United Kingdom</td>\n",
              "      <td>355</td>\n",
              "      <td>-1.0</td>\n",
              "      <td>-1.0</td>\n",
              "      <td>-1.0</td>\n",
              "      <td>-1.0</td>\n",
              "      <td>86040.0</td>\n",
              "      <td>0.0</td>\n",
              "      <td>11820.0</td>\n",
              "      <td>32725.423729</td>\n",
              "    </tr>\n",
              "    <tr>\n",
              "      <th>2</th>\n",
              "      <td>1</td>\n",
              "      <td>84406B</td>\n",
              "      <td>CREAM CUPID HEARTS COAT HANGER</td>\n",
              "      <td>8</td>\n",
              "      <td>2010-12-01 08:26:00</td>\n",
              "      <td>2.75</td>\n",
              "      <td>5504.0</td>\n",
              "      <td>United Kingdom</td>\n",
              "      <td>296</td>\n",
              "      <td>-1.0</td>\n",
              "      <td>-1.0</td>\n",
              "      <td>-1.0</td>\n",
              "      <td>-1.0</td>\n",
              "      <td>85800.0</td>\n",
              "      <td>0.0</td>\n",
              "      <td>12900.0</td>\n",
              "      <td>33462.508475</td>\n",
              "    </tr>\n",
              "    <tr>\n",
              "      <th>3</th>\n",
              "      <td>1</td>\n",
              "      <td>84029G</td>\n",
              "      <td>KNITTED UNION FLAG HOT WATER BOTTLE</td>\n",
              "      <td>6</td>\n",
              "      <td>2010-12-01 08:26:00</td>\n",
              "      <td>3.39</td>\n",
              "      <td>5504.0</td>\n",
              "      <td>United Kingdom</td>\n",
              "      <td>474</td>\n",
              "      <td>-1.0</td>\n",
              "      <td>-1.0</td>\n",
              "      <td>-1.0</td>\n",
              "      <td>-1.0</td>\n",
              "      <td>86280.0</td>\n",
              "      <td>0.0</td>\n",
              "      <td>6480.0</td>\n",
              "      <td>24682.452431</td>\n",
              "    </tr>\n",
              "    <tr>\n",
              "      <th>4</th>\n",
              "      <td>1</td>\n",
              "      <td>84029E</td>\n",
              "      <td>RED WOOLLY HOTTIE WHITE HEART.</td>\n",
              "      <td>6</td>\n",
              "      <td>2010-12-01 08:26:00</td>\n",
              "      <td>3.39</td>\n",
              "      <td>5504.0</td>\n",
              "      <td>United Kingdom</td>\n",
              "      <td>452</td>\n",
              "      <td>-1.0</td>\n",
              "      <td>-1.0</td>\n",
              "      <td>-1.0</td>\n",
              "      <td>-1.0</td>\n",
              "      <td>86280.0</td>\n",
              "      <td>0.0</td>\n",
              "      <td>5460.0</td>\n",
              "      <td>21663.858093</td>\n",
              "    </tr>\n",
              "  </tbody>\n",
              "</table>\n",
              "</div>"
            ],
            "text/plain": [
              "   InvoiceNo StockCode                          Description  Quantity  \\\n",
              "0          1    85123A   WHITE HANGING HEART T-LIGHT HOLDER         6   \n",
              "1          1     71053                  WHITE METAL LANTERN         6   \n",
              "2          1    84406B       CREAM CUPID HEARTS COAT HANGER         8   \n",
              "3          1    84029G  KNITTED UNION FLAG HOT WATER BOTTLE         6   \n",
              "4          1    84029E       RED WOOLLY HOTTIE WHITE HEART.         6   \n",
              "\n",
              "          InvoiceDate  UnitPrice  CustomerID         Country  freq  \\\n",
              "0 2010-12-01 08:26:00       2.55      5504.0  United Kingdom  2313   \n",
              "1 2010-12-01 08:26:00       3.39      5504.0  United Kingdom   355   \n",
              "2 2010-12-01 08:26:00       2.75      5504.0  United Kingdom   296   \n",
              "3 2010-12-01 08:26:00       3.39      5504.0  United Kingdom   474   \n",
              "4 2010-12-01 08:26:00       3.39      5504.0  United Kingdom   452   \n",
              "\n",
              "   time_from_last_order  time_from_last_order_t-1  time_from_last_order_t-2  \\\n",
              "0                  -1.0                      -1.0                      -1.0   \n",
              "1                  -1.0                      -1.0                      -1.0   \n",
              "2                  -1.0                      -1.0                      -1.0   \n",
              "3                  -1.0                      -1.0                      -1.0   \n",
              "4                  -1.0                      -1.0                      -1.0   \n",
              "\n",
              "   time_from_last_order_t-3  time_from_last_order_max  \\\n",
              "0                      -1.0                   84900.0   \n",
              "1                      -1.0                   86040.0   \n",
              "2                      -1.0                   85800.0   \n",
              "3                      -1.0                   86280.0   \n",
              "4                      -1.0                   86280.0   \n",
              "\n",
              "   time_from_last_order_min  time_from_last_order_median  \\\n",
              "0                       0.0                       2700.0   \n",
              "1                       0.0                      11820.0   \n",
              "2                       0.0                      12900.0   \n",
              "3                       0.0                       6480.0   \n",
              "4                       0.0                       5460.0   \n",
              "\n",
              "   time_from_last_order_mean  \n",
              "0               11253.321799  \n",
              "1               32725.423729  \n",
              "2               33462.508475  \n",
              "3               24682.452431  \n",
              "4               21663.858093  "
            ]
          },
          "metadata": {
            "tags": []
          },
          "execution_count": 8
        }
      ]
    },
    {
      "metadata": {
        "id": "XhQhoGla2iio",
        "colab_type": "code",
        "colab": {
          "base_uri": "https://localhost:8080/",
          "height": 323
        },
        "outputId": "0b49ea33-c90a-4b0d-bc84-4488e6ac32a8"
      },
      "cell_type": "code",
      "source": [
        "data.isnull().any(axis=0)"
      ],
      "execution_count": 9,
      "outputs": [
        {
          "output_type": "execute_result",
          "data": {
            "text/plain": [
              "InvoiceNo                      False\n",
              "StockCode                      False\n",
              "Description                     True\n",
              "Quantity                       False\n",
              "InvoiceDate                    False\n",
              "UnitPrice                      False\n",
              "CustomerID                      True\n",
              "Country                        False\n",
              "freq                           False\n",
              "time_from_last_order           False\n",
              "time_from_last_order_t-1       False\n",
              "time_from_last_order_t-2       False\n",
              "time_from_last_order_t-3       False\n",
              "time_from_last_order_max       False\n",
              "time_from_last_order_min       False\n",
              "time_from_last_order_median    False\n",
              "time_from_last_order_mean      False\n",
              "dtype: bool"
            ]
          },
          "metadata": {
            "tags": []
          },
          "execution_count": 9
        }
      ]
    },
    {
      "metadata": {
        "id": "cm8s3C8nths9",
        "colab_type": "text"
      },
      "cell_type": "markdown",
      "source": [
        "A chance to order a particular item can be depended on the day of week so let's add it to out features"
      ]
    },
    {
      "metadata": {
        "id": "vc6gyuE3Zn2Z",
        "colab_type": "code",
        "colab": {}
      },
      "cell_type": "code",
      "source": [
        "data['day-of-week'] = data['InvoiceDate'].dt.dayofweek\n"
      ],
      "execution_count": 0,
      "outputs": []
    },
    {
      "metadata": {
        "id": "S4nxRo58uLkB",
        "colab_type": "text"
      },
      "cell_type": "markdown",
      "source": [
        "We have some additional features around time, products, and orders\n",
        "\n",
        "in total we will use the followint features for the model\n",
        "\n",
        "numericat features: (to be normalized)\n",
        "* Quantity \n",
        "* UnitPrice \n",
        "* freq\n",
        "* time_from_last_ordert-1\n",
        "* time_from_last_ordert-2\n",
        "* time_from_last_ordert-3\n",
        "* time_from_last_order_max\n",
        "* time_from_last_order_min\n",
        "* time_from_last_order_median\n",
        "* time_from_last_order_mean\n",
        "\n",
        "categorical features: (to be binarized)\n",
        "* Country\n",
        "* day-of-week\n",
        "\n",
        "The output we well predict is **time_from_last_order**. It gives time that has elapsed from the last order to the next order, from this value we can easilly compute WHEN (date time) the product will be reordered\n",
        "\n",
        "There is still room for more features developement, especially correlating user and basket/invoice, also calculateing probabilities of however for the sake of time I skip it a.t.m."
      ]
    },
    {
      "metadata": {
        "id": "Igj3J0GyLsbE",
        "colab_type": "text"
      },
      "cell_type": "markdown",
      "source": [
        "# Building a dataset for model training and validation"
      ]
    },
    {
      "metadata": {
        "id": "lRQ4RWB8vxTU",
        "colab_type": "code",
        "colab": {
          "base_uri": "https://localhost:8080/",
          "height": 255
        },
        "outputId": "99adad37-d860-461b-9abe-783c24e12b4c"
      },
      "cell_type": "code",
      "source": [
        "X=data[['Quantity','UnitPrice','Country','freq',\n",
        "       'time_from_last_order_t-1', 'time_from_last_order_t-2',\n",
        "       'time_from_last_order_t-3', 'time_from_last_order_max',\n",
        "       'time_from_last_order_min', 'time_from_last_order_median',\n",
        "       'time_from_last_order_mean', 'day-of-week']]\n",
        "\n",
        "y=data['time_from_last_order']\n",
        "\n",
        "print(X.isnull().any(axis=0))\n",
        "print(y.isnull().any(axis=0))"
      ],
      "execution_count": 11,
      "outputs": [
        {
          "output_type": "stream",
          "text": [
            "Quantity                       False\n",
            "UnitPrice                      False\n",
            "Country                        False\n",
            "freq                           False\n",
            "time_from_last_order_t-1       False\n",
            "time_from_last_order_t-2       False\n",
            "time_from_last_order_t-3       False\n",
            "time_from_last_order_max       False\n",
            "time_from_last_order_min       False\n",
            "time_from_last_order_median    False\n",
            "time_from_last_order_mean      False\n",
            "day-of-week                    False\n",
            "dtype: bool\n",
            "False\n"
          ],
          "name": "stdout"
        }
      ]
    },
    {
      "metadata": {
        "id": "ka51VBpYL93z",
        "colab_type": "code",
        "colab": {
          "base_uri": "https://localhost:8080/",
          "height": 34
        },
        "outputId": "e699843d-8fd5-4351-dbd5-279041f30015"
      },
      "cell_type": "code",
      "source": [
        "from sklearn.model_selection import train_test_split\n",
        "X_train, X_test, y_train, y_test = train_test_split(X, y, test_size=0.2, random_state=34)\n",
        "print(X_train.shape, X_test.shape, y_train.shape, y_test.shape, X.shape, y.shape)"
      ],
      "execution_count": 12,
      "outputs": [
        {
          "output_type": "stream",
          "text": [
            "(433527, 12) (108382, 12) (433527,) (108382,) (541909, 12) (541909,)\n"
          ],
          "name": "stdout"
        }
      ]
    },
    {
      "metadata": {
        "id": "AruqRUcKMk_L",
        "colab_type": "text"
      },
      "cell_type": "markdown",
      "source": [
        "# Data transformation mapper\n",
        "We need to standarize and binarize our features.\n",
        "To make our life a bit easier we employ DataFrameMapper."
      ]
    },
    {
      "metadata": {
        "id": "_Wy1QI53M1Aa",
        "colab_type": "code",
        "colab": {
          "base_uri": "https://localhost:8080/",
          "height": 173
        },
        "outputId": "dacb111f-9404-4351-a7b0-2f4de3ded44d"
      },
      "cell_type": "code",
      "source": [
        "!pip install sklearn-pandas\n",
        "\n",
        "from sklearn.preprocessing import StandardScaler, LabelBinarizer, LabelEncoder, OneHotEncoder\n",
        "from sklearn_pandas import DataFrameMapper\n",
        "\n",
        "mapper = DataFrameMapper([\n",
        "  (['Quantity','UnitPrice','freq',\\\n",
        "   'time_from_last_order_t-1', 'time_from_last_order_t-2', 'time_from_last_order_t-3',\\\n",
        "    'time_from_last_order_max', 'time_from_last_order_min','time_from_last_order_median','time_from_last_order_mean'],\\\n",
        "      StandardScaler()),\n",
        "   ('day-of-week', LabelBinarizer()),\n",
        "   ('Country', LabelBinarizer())\n",
        "])\n",
        "\n",
        "#x=mapper.fit_transform(X)\n",
        "#x.shape"
      ],
      "execution_count": 13,
      "outputs": [
        {
          "output_type": "stream",
          "text": [
            "Requirement already satisfied: sklearn-pandas in /usr/local/lib/python3.6/dist-packages (1.6.0)\r\n",
            "Requirement already satisfied: numpy>=1.6.1 in /usr/local/lib/python3.6/dist-packages (from sklearn-pandas) (1.14.5)\r\n",
            "Requirement already satisfied: scikit-learn>=0.15.0 in /usr/local/lib/python3.6/dist-packages (from sklearn-pandas) (0.19.1)\r\n",
            "Requirement already satisfied: pandas>=0.11.0 in /usr/local/lib/python3.6/dist-packages (from sklearn-pandas) (0.22.0)\r\n",
            "Requirement already satisfied: scipy>=0.14 in /usr/local/lib/python3.6/dist-packages (from sklearn-pandas) (0.19.1)\r\n",
            "Requirement already satisfied: pytz>=2011k in /usr/local/lib/python3.6/dist-packages (from pandas>=0.11.0->sklearn-pandas) (2018.5)\r\n",
            "Requirement already satisfied: python-dateutil>=2 in /usr/local/lib/python3.6/dist-packages (from pandas>=0.11.0->sklearn-pandas) (2.5.3)\r\n",
            "Requirement already satisfied: six>=1.5 in /usr/local/lib/python3.6/dist-packages (from python-dateutil>=2->pandas>=0.11.0->sklearn-pandas) (1.11.0)\r\n"
          ],
          "name": "stdout"
        }
      ]
    },
    {
      "metadata": {
        "id": "R8_DcU2ANGW1",
        "colab_type": "text"
      },
      "cell_type": "markdown",
      "source": [
        "# Model based on NN (Keras)"
      ]
    },
    {
      "metadata": {
        "id": "QOtcGDxlR3ab",
        "colab_type": "code",
        "colab": {
          "base_uri": "https://localhost:8080/",
          "height": 34
        },
        "outputId": "3d2f953f-c5ff-4359-bf86-f534ea1a99d8"
      },
      "cell_type": "code",
      "source": [
        "from sklearn.metrics import mean_absolute_error\n",
        "from keras.models import Sequential\n",
        "from keras.layers import Dense\n",
        "from keras.wrappers.scikit_learn import KerasRegressor\n",
        "from sklearn.pipeline import Pipeline\n",
        "\n",
        "def nn_model():\n",
        "  size_n = 54 #number of columns after DataMapper transformation\n",
        "  # create model\n",
        "  model = Sequential()\n",
        "  model.add(Dense(size_n, input_dim=size_n, kernel_initializer='random_normal', activation='relu'))\n",
        "  model.add(Dense(size_n, kernel_initializer='random_normal', activation='relu'))\n",
        "  #model.add(Dense(size_n*2, kernel_initializer='random_normal', activation='relu'))\n",
        "  #model.add(Dense(size_n*2, kernel_initializer='random_normal', activation='relu'))\n",
        "  model.add(Dense(1, kernel_initializer='random_normal'))\n",
        "  # Compile model\n",
        "  model.compile(loss='mean_absolute_error', optimizer='sgd')\n",
        "  return model\n",
        "\n",
        "reg =  KerasRegressor(build_fn=nn_model, epochs=5, batch_size=1000, verbose=1)\n",
        "\n",
        "#pipeline.fit_transform(x_train, y_train[\"time_from_last_order\"])"
      ],
      "execution_count": 14,
      "outputs": [
        {
          "output_type": "stream",
          "text": [
            "Using TensorFlow backend.\n"
          ],
          "name": "stderr"
        }
      ]
    },
    {
      "metadata": {
        "id": "3nPYVBu5NwMs",
        "colab_type": "text"
      },
      "cell_type": "markdown",
      "source": [
        "Pipeline allows us to combine various steps of the process, data preprocessing, model fitting, and with it we can later quickly add, change, move steps. Can be also usefull for some kind of grid search and evaluating multiple models. "
      ]
    },
    {
      "metadata": {
        "id": "CLz6liSmWAyr",
        "colab_type": "code",
        "colab": {}
      },
      "cell_type": "code",
      "source": [
        "pipeline = Pipeline([('mapper', mapper),\n",
        "                    ('reg', reg)\n",
        "                   ])"
      ],
      "execution_count": 0,
      "outputs": []
    },
    {
      "metadata": {
        "id": "OnqKsuwtOay1",
        "colab_type": "text"
      },
      "cell_type": "markdown",
      "source": [
        "No we are ready to fir our model...."
      ]
    },
    {
      "metadata": {
        "id": "kbwRCg4BQolZ",
        "colab_type": "code",
        "colab": {
          "base_uri": "https://localhost:8080/",
          "height": 258
        },
        "outputId": "a72387f5-001d-4d3a-c764-f74b96ab24c9"
      },
      "cell_type": "code",
      "source": [
        "pipeline.fit(X_train, y_train)"
      ],
      "execution_count": 16,
      "outputs": [
        {
          "output_type": "stream",
          "text": [
            "Epoch 1/5\n",
            "433527/433527 [==============================] - 3s 6us/step - loss: 27927.8541\n",
            "Epoch 2/5\n",
            "433527/433527 [==============================] - 3s 6us/step - loss: 24798.7184\n",
            "Epoch 3/5\n",
            "433527/433527 [==============================] - 3s 6us/step - loss: 24660.4717\n",
            "Epoch 4/5\n",
            "433527/433527 [==============================] - 3s 6us/step - loss: 24333.1022\n",
            "Epoch 5/5\n",
            "433527/433527 [==============================] - 2s 6us/step - loss: 23409.2038\n"
          ],
          "name": "stdout"
        },
        {
          "output_type": "execute_result",
          "data": {
            "text/plain": [
              "Pipeline(memory=None,\n",
              "     steps=[('mapper', DataFrameMapper(default=False, df_out=False,\n",
              "        features=[(['Quantity', 'UnitPrice', 'freq', 'time_from_last_order_t-1', 'time_from_last_order_t-2', 'time_from_last_order_t-3', 'time_from_last_order_max', 'time_from_last_order_min', 'time_from_last_order_median', 'time_from_la...lse, sparse=False)), ('reg', <keras.wrappers.scikit_learn.KerasRegressor object at 0x7fb3caf97208>)])"
            ]
          },
          "metadata": {
            "tags": []
          },
          "execution_count": 16
        }
      ]
    },
    {
      "metadata": {
        "id": "gfQvEc7JQs9q",
        "colab_type": "text"
      },
      "cell_type": "markdown",
      "source": [
        "...and evaluate it"
      ]
    },
    {
      "metadata": {
        "id": "qjWxBOsXWXJE",
        "colab_type": "code",
        "colab": {
          "base_uri": "https://localhost:8080/",
          "height": 68
        },
        "outputId": "64d2aa7f-e4a9-4f7e-cccc-8a777089a8b2"
      },
      "cell_type": "code",
      "source": [
        "y_train_pred = pipeline.predict(X_train)\n",
        "y_test_pred = pipeline.predict(X_test)\n",
        "\n",
        "print('Mean absolute error in hours: {}, test {}'.format(\n",
        "    mean_absolute_error(y_train,y_train_pred)/60/60,\n",
        "    mean_absolute_error(y_test,y_test_pred)/60/60 ) )"
      ],
      "execution_count": 17,
      "outputs": [
        {
          "output_type": "stream",
          "text": [
            "433527/433527 [==============================] - 1s 2us/step\n",
            "108382/108382 [==============================] - 0s 2us/step\n",
            "Mean absolute error in hours: 6.408706203424617, test 6.446535329545071\n"
          ],
          "name": "stdout"
        }
      ]
    },
    {
      "metadata": {
        "id": "z5apIvK3EJAV",
        "colab_type": "text"
      },
      "cell_type": "markdown",
      "source": [
        "# Model based on ensemble learning (XGBRegressor)\n",
        "Additionally to a new model we will do some hyperpatameter optymization with RandomizedSearchCV. We cannot go crazy with nymber of iterations and params due to limited resurces.  "
      ]
    },
    {
      "metadata": {
        "id": "zQS1qIotcMRy",
        "colab_type": "code",
        "colab": {
          "base_uri": "https://localhost:8080/",
          "height": 68
        },
        "outputId": "0e32c9f9-4062-4de2-91b4-1697f4d1f7cd"
      },
      "cell_type": "code",
      "source": [
        "!pip install xgboost\n",
        "from xgboost.sklearn import XGBRegressor\n",
        "from sklearn.model_selection import RandomizedSearchCV\n",
        "\n",
        "import scipy.stats as st\n",
        "\n",
        "one_to_left = st.beta(10, 1)  \n",
        "from_zero_positive = st.expon(0, 50)\n",
        "\n",
        "params = {  \n",
        "    \"n_estimators\": st.randint(3, 20),\n",
        "    \"max_depth\": st.randint(3, 20),\n",
        "    \"learning_rate\": st.uniform(0.01, 0.4),\n",
        "    \"colsample_bytree\": one_to_left,\n",
        "    \"subsample\": one_to_left,\n",
        "    \"gamma\": st.uniform(0, 10),\n",
        "    'reg_alpha': from_zero_positive,\n",
        "    \"min_child_weight\": from_zero_positive,\n",
        "}\n",
        "\n",
        "\n",
        "xbst = XGBRegressor(nthread=-1)  \n",
        "\n",
        "gs = RandomizedSearchCV(xbst, params, n_jobs=1, verbose=3, n_iter=2)  "
      ],
      "execution_count": 18,
      "outputs": [
        {
          "output_type": "stream",
          "text": [
            "Requirement already satisfied: xgboost in /usr/local/lib/python3.6/dist-packages (0.7.post4)\r\n",
            "Requirement already satisfied: numpy in /usr/local/lib/python3.6/dist-packages (from xgboost) (1.14.5)\r\n",
            "Requirement already satisfied: scipy in /usr/local/lib/python3.6/dist-packages (from xgboost) (0.19.1)\r\n"
          ],
          "name": "stdout"
        }
      ]
    },
    {
      "metadata": {
        "id": "cgRih0XqPXQF",
        "colab_type": "text"
      },
      "cell_type": "markdown",
      "source": [
        "Let's fit the model and see what params perform best."
      ]
    },
    {
      "metadata": {
        "id": "OMWBnTAFhVyL",
        "colab_type": "code",
        "colab": {
          "base_uri": "https://localhost:8080/",
          "height": 496
        },
        "outputId": "f9408eb9-de8a-4d30-d2dc-9a46fccce7bf"
      },
      "cell_type": "code",
      "source": [
        "gs.fit(mapper.fit_transform(X_train), y_train)  "
      ],
      "execution_count": 19,
      "outputs": [
        {
          "output_type": "stream",
          "text": [
            "Fitting 3 folds for each of 2 candidates, totalling 6 fits\n",
            "[CV] colsample_bytree=0.9304906184484553, gamma=9.435773399569731, learning_rate=0.10379406529198455, max_depth=14, min_child_weight=8.34944550724054, n_estimators=19, reg_alpha=1.6182662690239484, subsample=0.9699975249214439 \n",
            "[CV]  colsample_bytree=0.9304906184484553, gamma=9.435773399569731, learning_rate=0.10379406529198455, max_depth=14, min_child_weight=8.34944550724054, n_estimators=19, reg_alpha=1.6182662690239484, subsample=0.9699975249214439, score=0.19094689369256412, total=  36.8s\n",
            "[CV] colsample_bytree=0.9304906184484553, gamma=9.435773399569731, learning_rate=0.10379406529198455, max_depth=14, min_child_weight=8.34944550724054, n_estimators=19, reg_alpha=1.6182662690239484, subsample=0.9699975249214439 \n"
          ],
          "name": "stdout"
        },
        {
          "output_type": "stream",
          "text": [
            "[Parallel(n_jobs=1)]: Done   1 out of   1 | elapsed:   38.3s remaining:    0.0s\n"
          ],
          "name": "stderr"
        },
        {
          "output_type": "stream",
          "text": [
            "[CV]  colsample_bytree=0.9304906184484553, gamma=9.435773399569731, learning_rate=0.10379406529198455, max_depth=14, min_child_weight=8.34944550724054, n_estimators=19, reg_alpha=1.6182662690239484, subsample=0.9699975249214439, score=0.19191216463680205, total=  36.8s\n",
            "[CV] colsample_bytree=0.9304906184484553, gamma=9.435773399569731, learning_rate=0.10379406529198455, max_depth=14, min_child_weight=8.34944550724054, n_estimators=19, reg_alpha=1.6182662690239484, subsample=0.9699975249214439 \n"
          ],
          "name": "stdout"
        },
        {
          "output_type": "stream",
          "text": [
            "[Parallel(n_jobs=1)]: Done   2 out of   2 | elapsed:  1.3min remaining:    0.0s\n"
          ],
          "name": "stderr"
        },
        {
          "output_type": "stream",
          "text": [
            "[CV]  colsample_bytree=0.9304906184484553, gamma=9.435773399569731, learning_rate=0.10379406529198455, max_depth=14, min_child_weight=8.34944550724054, n_estimators=19, reg_alpha=1.6182662690239484, subsample=0.9699975249214439, score=0.19309743797246792, total=  36.9s\n",
            "[CV] colsample_bytree=0.8843608198660169, gamma=0.09997341401008053, learning_rate=0.0681555189578482, max_depth=10, min_child_weight=78.45226308228736, n_estimators=5, reg_alpha=36.711574019594494, subsample=0.9281415562553603 \n",
            "[CV]  colsample_bytree=0.8843608198660169, gamma=0.09997341401008053, learning_rate=0.0681555189578482, max_depth=10, min_child_weight=78.45226308228736, n_estimators=5, reg_alpha=36.711574019594494, subsample=0.9281415562553603, score=-0.3133096097517989, total=   6.9s\n",
            "[CV] colsample_bytree=0.8843608198660169, gamma=0.09997341401008053, learning_rate=0.0681555189578482, max_depth=10, min_child_weight=78.45226308228736, n_estimators=5, reg_alpha=36.711574019594494, subsample=0.9281415562553603 \n",
            "[CV]  colsample_bytree=0.8843608198660169, gamma=0.09997341401008053, learning_rate=0.0681555189578482, max_depth=10, min_child_weight=78.45226308228736, n_estimators=5, reg_alpha=36.711574019594494, subsample=0.9281415562553603, score=-0.31870139023327004, total=   6.9s\n",
            "[CV] colsample_bytree=0.8843608198660169, gamma=0.09997341401008053, learning_rate=0.0681555189578482, max_depth=10, min_child_weight=78.45226308228736, n_estimators=5, reg_alpha=36.711574019594494, subsample=0.9281415562553603 \n",
            "[CV]  colsample_bytree=0.8843608198660169, gamma=0.09997341401008053, learning_rate=0.0681555189578482, max_depth=10, min_child_weight=78.45226308228736, n_estimators=5, reg_alpha=36.711574019594494, subsample=0.9281415562553603, score=-0.3132909321315571, total=   6.8s\n"
          ],
          "name": "stdout"
        },
        {
          "output_type": "stream",
          "text": [
            "[Parallel(n_jobs=1)]: Done   6 out of   6 | elapsed:  2.3min finished\n"
          ],
          "name": "stderr"
        },
        {
          "output_type": "execute_result",
          "data": {
            "text/plain": [
              "RandomizedSearchCV(cv=None, error_score='raise',\n",
              "          estimator=XGBRegressor(base_score=0.5, booster='gbtree', colsample_bylevel=1,\n",
              "       colsample_bytree=1, gamma=0, learning_rate=0.1, max_delta_step=0,\n",
              "       max_depth=3, min_child_weight=1, missing=None, n_estimators=100,\n",
              "       n_jobs=1, nthread=-1, objective='reg:linear', random_state=0,\n",
              "       reg_alpha=0, reg_lambda=1, scale_pos_weight=1, seed=None,\n",
              "       silent=True, subsample=1),\n",
              "          fit_params=None, iid=True, n_iter=2, n_jobs=1,\n",
              "          param_distributions={'n_estimators': <scipy.stats._distn_infrastructure.rv_frozen object at 0x7fb3bc5158d0>, 'max_depth': <scipy.stats._distn_infrastructure.rv_frozen object at 0x7fb3bc515748>, 'learning_rate': <scipy.stats._distn_infrastructure.rv_frozen object at 0x7fb3bc515908>, 'colsample_bytree...e35d68>, 'min_child_weight': <scipy.stats._distn_infrastructure.rv_frozen object at 0x7fb3bee35d68>},\n",
              "          pre_dispatch='2*n_jobs', random_state=None, refit=True,\n",
              "          return_train_score='warn', scoring=None, verbose=3)"
            ]
          },
          "metadata": {
            "tags": []
          },
          "execution_count": 19
        }
      ]
    },
    {
      "metadata": {
        "id": "t7ccLdlVPjpU",
        "colab_type": "text"
      },
      "cell_type": "markdown",
      "source": [
        "Finally, we evaluate the best estimator selected with the RandomizedSearchCV."
      ]
    },
    {
      "metadata": {
        "id": "p4A4MtWjoiMP",
        "colab_type": "code",
        "colab": {
          "base_uri": "https://localhost:8080/",
          "height": 34
        },
        "outputId": "5096fa03-0a2d-486d-b0c3-7b3188347971"
      },
      "cell_type": "code",
      "source": [
        "y_train_pred = gs.best_estimator_.predict(mapper.transform(X_train)) \n",
        "y_test_pred = gs.best_estimator_.predict(mapper.transform(X_test))\n",
        "\n",
        "print('Mean absolute error in hours: {}, test {}'.format(\n",
        "    mean_absolute_error(y_train,y_train_pred)/60/60,\n",
        "    mean_absolute_error(y_test,y_test_pred)/60/60 ) )"
      ],
      "execution_count": 20,
      "outputs": [
        {
          "output_type": "stream",
          "text": [
            "Mean absolute error in hours: 5.83433174467624, test 6.621672564631657\n"
          ],
          "name": "stdout"
        }
      ]
    },
    {
      "metadata": {
        "id": "niKw20zaf0Ak",
        "colab_type": "text"
      },
      "cell_type": "markdown",
      "source": [
        "# Simple Stacking\n",
        "\n",
        "First, we need to prepare features for our second level. We just use predictions from the previous levels here."
      ]
    },
    {
      "metadata": {
        "id": "VvoGzadPf69r",
        "colab_type": "code",
        "colab": {
          "base_uri": "https://localhost:8080/",
          "height": 68
        },
        "outputId": "4c6ee588-8764-44fb-db5f-84457adff10b"
      },
      "cell_type": "code",
      "source": [
        "X_train_stack1 = pipeline.predict(X_train)\n",
        "X_train_stack2 = gs.best_estimator_.predict(mapper.transform(X_train))\n",
        "X_train_stack = np.column_stack([X_train_stack1, X_train_stack2])\n",
        "\n",
        "X_test_stack1 = pipeline.predict(X_test)\n",
        "X_test_stack2 = gs.best_estimator_.predict(mapper.transform(X_test))\n",
        "X_test_stack = np.column_stack([X_test_stack1, X_test_stack2])\n",
        "\n",
        "print(X_train_stack.shape, X_test_stack.shape)"
      ],
      "execution_count": 21,
      "outputs": [
        {
          "output_type": "stream",
          "text": [
            "433527/433527 [==============================] - 1s 2us/step\n",
            "108382/108382 [==============================] - 0s 2us/step\n",
            "(433527, 2) (108382, 2)\n"
          ],
          "name": "stdout"
        }
      ]
    },
    {
      "metadata": {
        "id": "TIG4hNNxkTr-",
        "colab_type": "text"
      },
      "cell_type": "markdown",
      "source": [
        "Typically there is no need for super complex models on the 2nd level, hence here we employ LinearRegression. We could also use just average or build a NN here. "
      ]
    },
    {
      "metadata": {
        "id": "ZXR2JfHLhCRg",
        "colab_type": "code",
        "colab": {}
      },
      "cell_type": "code",
      "source": [
        "from sklearn.linear_model import LinearRegression\n",
        "from sklearn.preprocessing import PolynomialFeatures\n",
        "\n",
        "reg = LinearRegression()\n",
        "pipe_stacking = Pipeline([('poly',PolynomialFeatures(degree=1)),\n",
        "                    ('scl', StandardScaler()),\n",
        "                    ('reg', reg)\n",
        "                   ])"
      ],
      "execution_count": 0,
      "outputs": []
    },
    {
      "metadata": {
        "id": "R7NqR-CCifRB",
        "colab_type": "code",
        "colab": {
          "base_uri": "https://localhost:8080/",
          "height": 71
        },
        "outputId": "7d190923-8ae8-4d64-fe11-8996efd61038"
      },
      "cell_type": "code",
      "source": [
        "pipe_stacking.fit(X_train_stack, y_train)"
      ],
      "execution_count": 23,
      "outputs": [
        {
          "output_type": "execute_result",
          "data": {
            "text/plain": [
              "Pipeline(memory=None,\n",
              "     steps=[('poly', PolynomialFeatures(degree=1, include_bias=True, interaction_only=False)), ('scl', StandardScaler(copy=True, with_mean=True, with_std=True)), ('reg', LinearRegression(copy_X=True, fit_intercept=True, n_jobs=1, normalize=False))])"
            ]
          },
          "metadata": {
            "tags": []
          },
          "execution_count": 23
        }
      ]
    },
    {
      "metadata": {
        "id": "yM0n1iSwjBKV",
        "colab_type": "code",
        "colab": {
          "base_uri": "https://localhost:8080/",
          "height": 34
        },
        "outputId": "7878d4a3-6a84-42dd-b8cb-793d2130a368"
      },
      "cell_type": "code",
      "source": [
        "y_train_pred = pipe_stacking.predict(X_train_stack)\n",
        "y_test_pred = pipe_stacking.predict(X_test_stack)\n",
        "\n",
        "print('Mean absolute error in hours: {}, test {}'.format(\n",
        "    mean_absolute_error(y_train,y_train_pred)/60/60,\n",
        "    mean_absolute_error(y_test,y_test_pred)/60/60 ) )"
      ],
      "execution_count": 24,
      "outputs": [
        {
          "output_type": "stream",
          "text": [
            "Mean absolute error in hours: 5.193101637245491, test 6.539057709638957\n"
          ],
          "name": "stdout"
        }
      ]
    }
  ]
}