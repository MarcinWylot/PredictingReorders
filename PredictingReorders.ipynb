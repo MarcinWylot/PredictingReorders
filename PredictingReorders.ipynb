{
  "nbformat": 4,
  "nbformat_minor": 0,
  "metadata": {
    "colab": {
      "name": "PredictingReorders.ipynb",
      "version": "0.3.2",
      "provenance": [],
      "collapsed_sections": [],
      "include_colab_link": true
    },
    "kernelspec": {
      "name": "python3",
      "display_name": "Python 3"
    }
  },
  "cells": [
    {
      "cell_type": "markdown",
      "metadata": {
        "id": "view-in-github",
        "colab_type": "text"
      },
      "source": [
        "[View in Colaboratory](https://colab.research.google.com/github/MarcinWylot/PredictingReorders/blob/master/PredictingReorders.ipynb)"
      ]
    },
    {
      "metadata": {
        "id": "QmUnpVGtbSJ_",
        "colab_type": "text"
      },
      "cell_type": "markdown",
      "source": [
        "**GOAL**: Build a model that predicts when given product will be ordered again.\n",
        "\n",
        "**DATASET**: [Online Retail Data Set ](https://archive.ics.uci.edu/ml/datasets/online+retail)"
      ]
    },
    {
      "metadata": {
        "id": "9jSaYRUOyqra",
        "colab_type": "text"
      },
      "cell_type": "markdown",
      "source": [
        "First we need to download our dataset, I have it on my google drive. "
      ]
    },
    {
      "metadata": {
        "id": "wnBYj6DMWd6O",
        "colab_type": "code",
        "colab": {
          "base_uri": "https://localhost:8080/",
          "height": 119
        },
        "outputId": "6dd5c37b-814c-49e7-94ae-5ef12f03fd10"
      },
      "cell_type": "code",
      "source": [
        "\n",
        "!pip install -U -q PyDrive\n",
        "\n",
        "from pydrive.auth import GoogleAuth\n",
        "from pydrive.drive import GoogleDrive\n",
        "from google.colab import auth\n",
        "from oauth2client.client import GoogleCredentials\n",
        "\n",
        "#Authenticate and create the PyDrive client.\n",
        "auth.authenticate_user()\n",
        "gauth = GoogleAuth()\n",
        "gauth.credentials = GoogleCredentials.get_application_default()\n",
        "drive = GoogleDrive(gauth)\n",
        "\n",
        "#download my file\n",
        "!rm retail_data*\n",
        "downloaded = drive.CreateFile({'id': '1bgr8z7CGeW8pwvKV8kFLFumMFqRcmhFg'})\n",
        "downloaded.GetContentFile('./retail_data_2.zip')\n",
        "!unzip retail_data_2.zip\n",
        "!ls -hl"
      ],
      "execution_count": 1,
      "outputs": [
        {
          "output_type": "stream",
          "text": [
            "Archive:  retail_data_2.zip\n",
            "  inflating: retail_data.csv         \n",
            "total 52M\n",
            "drwxr-xr-x 1 root root 4.0K Jul 17 08:59 datalab\n",
            "-rw-r--r-- 1 root root 6.9M Jul 17 12:42 retail_data_2.zip\n",
            "-rw-rw-r-- 1 root root  45M May 14 10:47 retail_data.csv\n"
          ],
          "name": "stdout"
        }
      ]
    },
    {
      "metadata": {
        "id": "vbvONAD2Hvp0",
        "colab_type": "code",
        "colab": {
          "base_uri": "https://localhost:8080/",
          "height": 153
        },
        "outputId": "7e8084ac-6798-4953-c3ec-de6e62d802bc"
      },
      "cell_type": "code",
      "source": [
        "!df -h"
      ],
      "execution_count": 2,
      "outputs": [
        {
          "output_type": "stream",
          "text": [
            "Filesystem      Size  Used Avail Use% Mounted on\r\n",
            "overlay          40G  5.2G   32G  14% /\r\n",
            "tmpfs           6.4G     0  6.4G   0% /dev\r\n",
            "tmpfs           6.4G     0  6.4G   0% /sys/fs/cgroup\r\n",
            "tmpfs           6.4G     0  6.4G   0% /opt/bin\r\n",
            "/dev/sda1        46G  5.9G   40G  14% /etc/hosts\r\n",
            "shm              64M     0   64M   0% /dev/shm\r\n",
            "tmpfs           6.4G     0  6.4G   0% /sys/firmware\r\n"
          ],
          "name": "stdout"
        }
      ]
    },
    {
      "metadata": {
        "id": "hik1J8uRy9CJ",
        "colab_type": "text"
      },
      "cell_type": "markdown",
      "source": [
        "Let's load data to DataFrame and see what we have there"
      ]
    },
    {
      "metadata": {
        "id": "725HKRrCisKB",
        "colab_type": "code",
        "colab": {
          "base_uri": "https://localhost:8080/",
          "height": 204
        },
        "outputId": "26180b6d-0328-4c2a-9231-7821caeb7387"
      },
      "cell_type": "code",
      "source": [
        "import numpy as np\n",
        "import pandas as pd \n",
        "import matplotlib.pyplot as plt\n",
        "import seaborn as sns \n",
        "\n",
        "\n",
        "data = pd.read_csv('./retail_data.csv')\n",
        "data.head()"
      ],
      "execution_count": 3,
      "outputs": [
        {
          "output_type": "execute_result",
          "data": {
            "text/html": [
              "<div>\n",
              "<style scoped>\n",
              "    .dataframe tbody tr th:only-of-type {\n",
              "        vertical-align: middle;\n",
              "    }\n",
              "\n",
              "    .dataframe tbody tr th {\n",
              "        vertical-align: top;\n",
              "    }\n",
              "\n",
              "    .dataframe thead th {\n",
              "        text-align: right;\n",
              "    }\n",
              "</style>\n",
              "<table border=\"1\" class=\"dataframe\">\n",
              "  <thead>\n",
              "    <tr style=\"text-align: right;\">\n",
              "      <th></th>\n",
              "      <th>InvoiceNo</th>\n",
              "      <th>StockCode</th>\n",
              "      <th>Description</th>\n",
              "      <th>Quantity</th>\n",
              "      <th>InvoiceDate</th>\n",
              "      <th>UnitPrice</th>\n",
              "      <th>CustomerID</th>\n",
              "      <th>Country</th>\n",
              "    </tr>\n",
              "  </thead>\n",
              "  <tbody>\n",
              "    <tr>\n",
              "      <th>0</th>\n",
              "      <td>1</td>\n",
              "      <td>85123A</td>\n",
              "      <td>WHITE HANGING HEART T-LIGHT HOLDER</td>\n",
              "      <td>6</td>\n",
              "      <td>2010-12-01 08:26:00</td>\n",
              "      <td>2.55</td>\n",
              "      <td>5504.0</td>\n",
              "      <td>United Kingdom</td>\n",
              "    </tr>\n",
              "    <tr>\n",
              "      <th>1</th>\n",
              "      <td>1</td>\n",
              "      <td>71053</td>\n",
              "      <td>WHITE METAL LANTERN</td>\n",
              "      <td>6</td>\n",
              "      <td>2010-12-01 08:26:00</td>\n",
              "      <td>3.39</td>\n",
              "      <td>5504.0</td>\n",
              "      <td>United Kingdom</td>\n",
              "    </tr>\n",
              "    <tr>\n",
              "      <th>2</th>\n",
              "      <td>1</td>\n",
              "      <td>84406B</td>\n",
              "      <td>CREAM CUPID HEARTS COAT HANGER</td>\n",
              "      <td>8</td>\n",
              "      <td>2010-12-01 08:26:00</td>\n",
              "      <td>2.75</td>\n",
              "      <td>5504.0</td>\n",
              "      <td>United Kingdom</td>\n",
              "    </tr>\n",
              "    <tr>\n",
              "      <th>3</th>\n",
              "      <td>1</td>\n",
              "      <td>84029G</td>\n",
              "      <td>KNITTED UNION FLAG HOT WATER BOTTLE</td>\n",
              "      <td>6</td>\n",
              "      <td>2010-12-01 08:26:00</td>\n",
              "      <td>3.39</td>\n",
              "      <td>5504.0</td>\n",
              "      <td>United Kingdom</td>\n",
              "    </tr>\n",
              "    <tr>\n",
              "      <th>4</th>\n",
              "      <td>1</td>\n",
              "      <td>84029E</td>\n",
              "      <td>RED WOOLLY HOTTIE WHITE HEART.</td>\n",
              "      <td>6</td>\n",
              "      <td>2010-12-01 08:26:00</td>\n",
              "      <td>3.39</td>\n",
              "      <td>5504.0</td>\n",
              "      <td>United Kingdom</td>\n",
              "    </tr>\n",
              "  </tbody>\n",
              "</table>\n",
              "</div>"
            ],
            "text/plain": [
              "   InvoiceNo StockCode                          Description  Quantity  \\\n",
              "0          1    85123A   WHITE HANGING HEART T-LIGHT HOLDER         6   \n",
              "1          1     71053                  WHITE METAL LANTERN         6   \n",
              "2          1    84406B       CREAM CUPID HEARTS COAT HANGER         8   \n",
              "3          1    84029G  KNITTED UNION FLAG HOT WATER BOTTLE         6   \n",
              "4          1    84029E       RED WOOLLY HOTTIE WHITE HEART.         6   \n",
              "\n",
              "           InvoiceDate  UnitPrice  CustomerID         Country  \n",
              "0  2010-12-01 08:26:00       2.55      5504.0  United Kingdom  \n",
              "1  2010-12-01 08:26:00       3.39      5504.0  United Kingdom  \n",
              "2  2010-12-01 08:26:00       2.75      5504.0  United Kingdom  \n",
              "3  2010-12-01 08:26:00       3.39      5504.0  United Kingdom  \n",
              "4  2010-12-01 08:26:00       3.39      5504.0  United Kingdom  "
            ]
          },
          "metadata": {
            "tags": []
          },
          "execution_count": 3
        }
      ]
    },
    {
      "metadata": {
        "id": "69QVwi-mxS2E",
        "colab_type": "text"
      },
      "cell_type": "markdown",
      "source": [
        "let's check is we're dafe with NaNs"
      ]
    },
    {
      "metadata": {
        "id": "3vYINoKTw2-6",
        "colab_type": "code",
        "colab": {
          "base_uri": "https://localhost:8080/",
          "height": 170
        },
        "outputId": "ab0af183-fcd6-4180-a4c5-d05e9a78a114"
      },
      "cell_type": "code",
      "source": [
        "data.isnull().any(axis=0)"
      ],
      "execution_count": 4,
      "outputs": [
        {
          "output_type": "execute_result",
          "data": {
            "text/plain": [
              "InvoiceNo      False\n",
              "StockCode      False\n",
              "Description     True\n",
              "Quantity       False\n",
              "InvoiceDate    False\n",
              "UnitPrice      False\n",
              "CustomerID      True\n",
              "Country        False\n",
              "dtype: bool"
            ]
          },
          "metadata": {
            "tags": []
          },
          "execution_count": 4
        }
      ]
    },
    {
      "metadata": {
        "id": "w9ocWEATKJ4_",
        "colab_type": "text"
      },
      "cell_type": "markdown",
      "source": [
        "# Feature Engineering "
      ]
    },
    {
      "metadata": {
        "id": "j_u9FeCmoqO5",
        "colab_type": "text"
      },
      "cell_type": "markdown",
      "source": [
        "Let's see how hot are the items, a quick values count  adding  frequencies"
      ]
    },
    {
      "metadata": {
        "id": "4SrkxUZljxrX",
        "colab_type": "code",
        "colab": {
          "base_uri": "https://localhost:8080/",
          "height": 204
        },
        "outputId": "1a64986f-710f-4d94-de91-7b3fbeaaaae6"
      },
      "cell_type": "code",
      "source": [
        "data['freq'] = data.groupby('StockCode')['StockCode'].transform('count')\n",
        "data.head()"
      ],
      "execution_count": 5,
      "outputs": [
        {
          "output_type": "execute_result",
          "data": {
            "text/html": [
              "<div>\n",
              "<style scoped>\n",
              "    .dataframe tbody tr th:only-of-type {\n",
              "        vertical-align: middle;\n",
              "    }\n",
              "\n",
              "    .dataframe tbody tr th {\n",
              "        vertical-align: top;\n",
              "    }\n",
              "\n",
              "    .dataframe thead th {\n",
              "        text-align: right;\n",
              "    }\n",
              "</style>\n",
              "<table border=\"1\" class=\"dataframe\">\n",
              "  <thead>\n",
              "    <tr style=\"text-align: right;\">\n",
              "      <th></th>\n",
              "      <th>InvoiceNo</th>\n",
              "      <th>StockCode</th>\n",
              "      <th>Description</th>\n",
              "      <th>Quantity</th>\n",
              "      <th>InvoiceDate</th>\n",
              "      <th>UnitPrice</th>\n",
              "      <th>CustomerID</th>\n",
              "      <th>Country</th>\n",
              "      <th>freq</th>\n",
              "    </tr>\n",
              "  </thead>\n",
              "  <tbody>\n",
              "    <tr>\n",
              "      <th>0</th>\n",
              "      <td>1</td>\n",
              "      <td>85123A</td>\n",
              "      <td>WHITE HANGING HEART T-LIGHT HOLDER</td>\n",
              "      <td>6</td>\n",
              "      <td>2010-12-01 08:26:00</td>\n",
              "      <td>2.55</td>\n",
              "      <td>5504.0</td>\n",
              "      <td>United Kingdom</td>\n",
              "      <td>2313</td>\n",
              "    </tr>\n",
              "    <tr>\n",
              "      <th>1</th>\n",
              "      <td>1</td>\n",
              "      <td>71053</td>\n",
              "      <td>WHITE METAL LANTERN</td>\n",
              "      <td>6</td>\n",
              "      <td>2010-12-01 08:26:00</td>\n",
              "      <td>3.39</td>\n",
              "      <td>5504.0</td>\n",
              "      <td>United Kingdom</td>\n",
              "      <td>355</td>\n",
              "    </tr>\n",
              "    <tr>\n",
              "      <th>2</th>\n",
              "      <td>1</td>\n",
              "      <td>84406B</td>\n",
              "      <td>CREAM CUPID HEARTS COAT HANGER</td>\n",
              "      <td>8</td>\n",
              "      <td>2010-12-01 08:26:00</td>\n",
              "      <td>2.75</td>\n",
              "      <td>5504.0</td>\n",
              "      <td>United Kingdom</td>\n",
              "      <td>296</td>\n",
              "    </tr>\n",
              "    <tr>\n",
              "      <th>3</th>\n",
              "      <td>1</td>\n",
              "      <td>84029G</td>\n",
              "      <td>KNITTED UNION FLAG HOT WATER BOTTLE</td>\n",
              "      <td>6</td>\n",
              "      <td>2010-12-01 08:26:00</td>\n",
              "      <td>3.39</td>\n",
              "      <td>5504.0</td>\n",
              "      <td>United Kingdom</td>\n",
              "      <td>474</td>\n",
              "    </tr>\n",
              "    <tr>\n",
              "      <th>4</th>\n",
              "      <td>1</td>\n",
              "      <td>84029E</td>\n",
              "      <td>RED WOOLLY HOTTIE WHITE HEART.</td>\n",
              "      <td>6</td>\n",
              "      <td>2010-12-01 08:26:00</td>\n",
              "      <td>3.39</td>\n",
              "      <td>5504.0</td>\n",
              "      <td>United Kingdom</td>\n",
              "      <td>452</td>\n",
              "    </tr>\n",
              "  </tbody>\n",
              "</table>\n",
              "</div>"
            ],
            "text/plain": [
              "   InvoiceNo StockCode                          Description  Quantity  \\\n",
              "0          1    85123A   WHITE HANGING HEART T-LIGHT HOLDER         6   \n",
              "1          1     71053                  WHITE METAL LANTERN         6   \n",
              "2          1    84406B       CREAM CUPID HEARTS COAT HANGER         8   \n",
              "3          1    84029G  KNITTED UNION FLAG HOT WATER BOTTLE         6   \n",
              "4          1    84029E       RED WOOLLY HOTTIE WHITE HEART.         6   \n",
              "\n",
              "           InvoiceDate  UnitPrice  CustomerID         Country  freq  \n",
              "0  2010-12-01 08:26:00       2.55      5504.0  United Kingdom  2313  \n",
              "1  2010-12-01 08:26:00       3.39      5504.0  United Kingdom   355  \n",
              "2  2010-12-01 08:26:00       2.75      5504.0  United Kingdom   296  \n",
              "3  2010-12-01 08:26:00       3.39      5504.0  United Kingdom   474  \n",
              "4  2010-12-01 08:26:00       3.39      5504.0  United Kingdom   452  "
            ]
          },
          "metadata": {
            "tags": []
          },
          "execution_count": 5
        }
      ]
    },
    {
      "metadata": {
        "id": "KMHohajaD22p",
        "colab_type": "text"
      },
      "cell_type": "markdown",
      "source": [
        "Ok, so now let's calculate the time interval from the last order of a particulat item\n",
        "\n",
        "this is essentially what we will try to predict, in what time interval from last order for a partucilat product we will see it ordered again \n",
        "\n",
        "additionally we clean a bit the data, negative time intervals are set to -1"
      ]
    },
    {
      "metadata": {
        "id": "Hg1LK10VnagK",
        "colab_type": "code",
        "colab": {
          "base_uri": "https://localhost:8080/",
          "height": 289
        },
        "outputId": "30a82962-6888-4c42-a3f2-b84c3a93cc30"
      },
      "cell_type": "code",
      "source": [
        "import datetime\n",
        "\n",
        "data['InvoiceDate'] = pd.to_datetime(data['InvoiceDate'])\n",
        "\n",
        "data['time_from_last_order'] =\\\n",
        "  data.sort_values(['StockCode','InvoiceDate']).groupby('StockCode').InvoiceDate\\\n",
        "  .diff()\\\n",
        "  .apply(lambda x: x.seconds if x >= pd.Timedelta(0) else -1.0)\n",
        "data.sort_values(['StockCode','InvoiceDate']).head()"
      ],
      "execution_count": 6,
      "outputs": [
        {
          "output_type": "execute_result",
          "data": {
            "text/html": [
              "<div>\n",
              "<style scoped>\n",
              "    .dataframe tbody tr th:only-of-type {\n",
              "        vertical-align: middle;\n",
              "    }\n",
              "\n",
              "    .dataframe tbody tr th {\n",
              "        vertical-align: top;\n",
              "    }\n",
              "\n",
              "    .dataframe thead th {\n",
              "        text-align: right;\n",
              "    }\n",
              "</style>\n",
              "<table border=\"1\" class=\"dataframe\">\n",
              "  <thead>\n",
              "    <tr style=\"text-align: right;\">\n",
              "      <th></th>\n",
              "      <th>InvoiceNo</th>\n",
              "      <th>StockCode</th>\n",
              "      <th>Description</th>\n",
              "      <th>Quantity</th>\n",
              "      <th>InvoiceDate</th>\n",
              "      <th>UnitPrice</th>\n",
              "      <th>CustomerID</th>\n",
              "      <th>Country</th>\n",
              "      <th>freq</th>\n",
              "      <th>time_from_last_order</th>\n",
              "    </tr>\n",
              "  </thead>\n",
              "  <tbody>\n",
              "    <tr>\n",
              "      <th>31</th>\n",
              "      <td>6</td>\n",
              "      <td>10002</td>\n",
              "      <td>INFLATABLE POLITICAL GLOBE</td>\n",
              "      <td>48</td>\n",
              "      <td>2010-12-01 08:45:00</td>\n",
              "      <td>0.85</td>\n",
              "      <td>237.0</td>\n",
              "      <td>France</td>\n",
              "      <td>73</td>\n",
              "      <td>-1.0</td>\n",
              "    </tr>\n",
              "    <tr>\n",
              "      <th>142</th>\n",
              "      <td>18</td>\n",
              "      <td>10002</td>\n",
              "      <td>INFLATABLE POLITICAL GLOBE</td>\n",
              "      <td>12</td>\n",
              "      <td>2010-12-01 09:45:00</td>\n",
              "      <td>0.85</td>\n",
              "      <td>3752.0</td>\n",
              "      <td>United Kingdom</td>\n",
              "      <td>73</td>\n",
              "      <td>3600.0</td>\n",
              "    </tr>\n",
              "    <tr>\n",
              "      <th>4272</th>\n",
              "      <td>392</td>\n",
              "      <td>10002</td>\n",
              "      <td>INFLATABLE POLITICAL GLOBE</td>\n",
              "      <td>1</td>\n",
              "      <td>2010-12-02 14:23:00</td>\n",
              "      <td>0.85</td>\n",
              "      <td>NaN</td>\n",
              "      <td>United Kingdom</td>\n",
              "      <td>73</td>\n",
              "      <td>16680.0</td>\n",
              "    </tr>\n",
              "    <tr>\n",
              "      <th>5466</th>\n",
              "      <td>499</td>\n",
              "      <td>10002</td>\n",
              "      <td>INFLATABLE POLITICAL GLOBE</td>\n",
              "      <td>1</td>\n",
              "      <td>2010-12-03 11:19:00</td>\n",
              "      <td>0.85</td>\n",
              "      <td>5621.0</td>\n",
              "      <td>United Kingdom</td>\n",
              "      <td>73</td>\n",
              "      <td>75360.0</td>\n",
              "    </tr>\n",
              "    <tr>\n",
              "      <th>5546</th>\n",
              "      <td>501</td>\n",
              "      <td>10002</td>\n",
              "      <td>INFLATABLE POLITICAL GLOBE</td>\n",
              "      <td>5</td>\n",
              "      <td>2010-12-03 11:28:00</td>\n",
              "      <td>1.66</td>\n",
              "      <td>NaN</td>\n",
              "      <td>United Kingdom</td>\n",
              "      <td>73</td>\n",
              "      <td>540.0</td>\n",
              "    </tr>\n",
              "  </tbody>\n",
              "</table>\n",
              "</div>"
            ],
            "text/plain": [
              "      InvoiceNo StockCode                  Description  Quantity  \\\n",
              "31            6     10002  INFLATABLE POLITICAL GLOBE         48   \n",
              "142          18     10002  INFLATABLE POLITICAL GLOBE         12   \n",
              "4272        392     10002  INFLATABLE POLITICAL GLOBE          1   \n",
              "5466        499     10002  INFLATABLE POLITICAL GLOBE          1   \n",
              "5546        501     10002  INFLATABLE POLITICAL GLOBE          5   \n",
              "\n",
              "             InvoiceDate  UnitPrice  CustomerID         Country  freq  \\\n",
              "31   2010-12-01 08:45:00       0.85       237.0          France    73   \n",
              "142  2010-12-01 09:45:00       0.85      3752.0  United Kingdom    73   \n",
              "4272 2010-12-02 14:23:00       0.85         NaN  United Kingdom    73   \n",
              "5466 2010-12-03 11:19:00       0.85      5621.0  United Kingdom    73   \n",
              "5546 2010-12-03 11:28:00       1.66         NaN  United Kingdom    73   \n",
              "\n",
              "      time_from_last_order  \n",
              "31                    -1.0  \n",
              "142                 3600.0  \n",
              "4272               16680.0  \n",
              "5466               75360.0  \n",
              "5546                 540.0  "
            ]
          },
          "metadata": {
            "tags": []
          },
          "execution_count": 6
        }
      ]
    },
    {
      "metadata": {
        "id": "JNdchVF7X2IQ",
        "colab_type": "text"
      },
      "cell_type": "markdown",
      "source": [
        "Time between orders in whcih an item occurs, we take into accont past 3 orders. \n",
        "This is to capdute dynamicity of orders for a product.\n",
        "\n",
        "These features will give us a picture how often the item recently apeared in baskets (just 3 last orders)"
      ]
    },
    {
      "metadata": {
        "id": "PQMAIuP8D-jr",
        "colab_type": "code",
        "colab": {
          "base_uri": "https://localhost:8080/",
          "height": 255
        },
        "outputId": "9e552af5-7534-4ac9-eb04-c089eb2e2d98"
      },
      "cell_type": "code",
      "source": [
        "data['time_from_last_order_t-1'] = data.sort_values(['StockCode','InvoiceDate']).groupby('StockCode').time_from_last_order.shift(1).apply(lambda x: x if x >= 0 else -1.0)\n",
        "data['time_from_last_order_t-2'] = data.sort_values(['StockCode','InvoiceDate']).groupby('StockCode').time_from_last_order.shift(2).apply(lambda x: x if x >= 0 else -1.0)\n",
        "data['time_from_last_order_t-3'] = data.sort_values(['StockCode','InvoiceDate']).groupby('StockCode').time_from_last_order.shift(3).apply(lambda x: x if x >= 0 else -1.0)\n",
        "data.isnull().any(axis=0)"
      ],
      "execution_count": 7,
      "outputs": [
        {
          "output_type": "execute_result",
          "data": {
            "text/plain": [
              "InvoiceNo                   False\n",
              "StockCode                   False\n",
              "Description                  True\n",
              "Quantity                    False\n",
              "InvoiceDate                 False\n",
              "UnitPrice                   False\n",
              "CustomerID                   True\n",
              "Country                     False\n",
              "freq                        False\n",
              "time_from_last_order        False\n",
              "time_from_last_order_t-1    False\n",
              "time_from_last_order_t-2    False\n",
              "time_from_last_order_t-3    False\n",
              "dtype: bool"
            ]
          },
          "metadata": {
            "tags": []
          },
          "execution_count": 7
        }
      ]
    },
    {
      "metadata": {
        "id": "cQJZCrwTZEeA",
        "colab_type": "text"
      },
      "cell_type": "markdown",
      "source": [
        "Now we add some stats around products and time elapesd from their last orders\n",
        "\n",
        "max is easy to aggragate \n",
        "\n",
        "for others we want to take into account only positive time deltas, as there can be some NaT or -1 which we use to mark the first time orders "
      ]
    },
    {
      "metadata": {
        "id": "q5--FxhTZDq9",
        "colab_type": "code",
        "colab": {
          "base_uri": "https://localhost:8080/",
          "height": 547
        },
        "outputId": "75a463d8-e224-4458-fcf3-5266927ccf0c"
      },
      "cell_type": "code",
      "source": [
        "sts = data.groupby('StockCode').time_from_last_order.max().to_frame()\n",
        "sts.columns = ['time_from_last_order_max']\n",
        "sts['time_from_last_order_min'] = data.groupby('StockCode').time_from_last_order.agg([lambda x: x[x >= 0].min()])\n",
        "sts['time_from_last_order_median'] = data.groupby('StockCode').time_from_last_order.agg([lambda x: x[x >= 0].median()])\n",
        "sts['time_from_last_order_mean'] = data.groupby('StockCode').time_from_last_order.agg([lambda x: x[x >= 0].mean()])\n",
        "sts.fillna(-1.0,inplace=True)\n",
        "sts.reset_index(inplace=True)\n",
        "data = data.merge(sts, on='StockCode', how='left', copy=False)\n",
        "data.head()"
      ],
      "execution_count": 8,
      "outputs": [
        {
          "output_type": "execute_result",
          "data": {
            "text/html": [
              "<div>\n",
              "<style scoped>\n",
              "    .dataframe tbody tr th:only-of-type {\n",
              "        vertical-align: middle;\n",
              "    }\n",
              "\n",
              "    .dataframe tbody tr th {\n",
              "        vertical-align: top;\n",
              "    }\n",
              "\n",
              "    .dataframe thead th {\n",
              "        text-align: right;\n",
              "    }\n",
              "</style>\n",
              "<table border=\"1\" class=\"dataframe\">\n",
              "  <thead>\n",
              "    <tr style=\"text-align: right;\">\n",
              "      <th></th>\n",
              "      <th>InvoiceNo</th>\n",
              "      <th>StockCode</th>\n",
              "      <th>Description</th>\n",
              "      <th>Quantity</th>\n",
              "      <th>InvoiceDate</th>\n",
              "      <th>UnitPrice</th>\n",
              "      <th>CustomerID</th>\n",
              "      <th>Country</th>\n",
              "      <th>freq</th>\n",
              "      <th>time_from_last_order</th>\n",
              "      <th>time_from_last_order_t-1</th>\n",
              "      <th>time_from_last_order_t-2</th>\n",
              "      <th>time_from_last_order_t-3</th>\n",
              "      <th>time_from_last_order_max</th>\n",
              "      <th>time_from_last_order_min</th>\n",
              "      <th>time_from_last_order_median</th>\n",
              "      <th>time_from_last_order_mean</th>\n",
              "    </tr>\n",
              "  </thead>\n",
              "  <tbody>\n",
              "    <tr>\n",
              "      <th>0</th>\n",
              "      <td>1</td>\n",
              "      <td>85123A</td>\n",
              "      <td>WHITE HANGING HEART T-LIGHT HOLDER</td>\n",
              "      <td>6</td>\n",
              "      <td>2010-12-01 08:26:00</td>\n",
              "      <td>2.55</td>\n",
              "      <td>5504.0</td>\n",
              "      <td>United Kingdom</td>\n",
              "      <td>2313</td>\n",
              "      <td>-1.0</td>\n",
              "      <td>-1.0</td>\n",
              "      <td>-1.0</td>\n",
              "      <td>-1.0</td>\n",
              "      <td>84900.0</td>\n",
              "      <td>0.0</td>\n",
              "      <td>2700.0</td>\n",
              "      <td>11253.321799</td>\n",
              "    </tr>\n",
              "    <tr>\n",
              "      <th>1</th>\n",
              "      <td>1</td>\n",
              "      <td>71053</td>\n",
              "      <td>WHITE METAL LANTERN</td>\n",
              "      <td>6</td>\n",
              "      <td>2010-12-01 08:26:00</td>\n",
              "      <td>3.39</td>\n",
              "      <td>5504.0</td>\n",
              "      <td>United Kingdom</td>\n",
              "      <td>355</td>\n",
              "      <td>-1.0</td>\n",
              "      <td>-1.0</td>\n",
              "      <td>-1.0</td>\n",
              "      <td>-1.0</td>\n",
              "      <td>86040.0</td>\n",
              "      <td>0.0</td>\n",
              "      <td>11820.0</td>\n",
              "      <td>32725.423729</td>\n",
              "    </tr>\n",
              "    <tr>\n",
              "      <th>2</th>\n",
              "      <td>1</td>\n",
              "      <td>84406B</td>\n",
              "      <td>CREAM CUPID HEARTS COAT HANGER</td>\n",
              "      <td>8</td>\n",
              "      <td>2010-12-01 08:26:00</td>\n",
              "      <td>2.75</td>\n",
              "      <td>5504.0</td>\n",
              "      <td>United Kingdom</td>\n",
              "      <td>296</td>\n",
              "      <td>-1.0</td>\n",
              "      <td>-1.0</td>\n",
              "      <td>-1.0</td>\n",
              "      <td>-1.0</td>\n",
              "      <td>85800.0</td>\n",
              "      <td>0.0</td>\n",
              "      <td>12900.0</td>\n",
              "      <td>33462.508475</td>\n",
              "    </tr>\n",
              "    <tr>\n",
              "      <th>3</th>\n",
              "      <td>1</td>\n",
              "      <td>84029G</td>\n",
              "      <td>KNITTED UNION FLAG HOT WATER BOTTLE</td>\n",
              "      <td>6</td>\n",
              "      <td>2010-12-01 08:26:00</td>\n",
              "      <td>3.39</td>\n",
              "      <td>5504.0</td>\n",
              "      <td>United Kingdom</td>\n",
              "      <td>474</td>\n",
              "      <td>-1.0</td>\n",
              "      <td>-1.0</td>\n",
              "      <td>-1.0</td>\n",
              "      <td>-1.0</td>\n",
              "      <td>86280.0</td>\n",
              "      <td>0.0</td>\n",
              "      <td>6480.0</td>\n",
              "      <td>24682.452431</td>\n",
              "    </tr>\n",
              "    <tr>\n",
              "      <th>4</th>\n",
              "      <td>1</td>\n",
              "      <td>84029E</td>\n",
              "      <td>RED WOOLLY HOTTIE WHITE HEART.</td>\n",
              "      <td>6</td>\n",
              "      <td>2010-12-01 08:26:00</td>\n",
              "      <td>3.39</td>\n",
              "      <td>5504.0</td>\n",
              "      <td>United Kingdom</td>\n",
              "      <td>452</td>\n",
              "      <td>-1.0</td>\n",
              "      <td>-1.0</td>\n",
              "      <td>-1.0</td>\n",
              "      <td>-1.0</td>\n",
              "      <td>86280.0</td>\n",
              "      <td>0.0</td>\n",
              "      <td>5460.0</td>\n",
              "      <td>21663.858093</td>\n",
              "    </tr>\n",
              "  </tbody>\n",
              "</table>\n",
              "</div>"
            ],
            "text/plain": [
              "   InvoiceNo StockCode                          Description  Quantity  \\\n",
              "0          1    85123A   WHITE HANGING HEART T-LIGHT HOLDER         6   \n",
              "1          1     71053                  WHITE METAL LANTERN         6   \n",
              "2          1    84406B       CREAM CUPID HEARTS COAT HANGER         8   \n",
              "3          1    84029G  KNITTED UNION FLAG HOT WATER BOTTLE         6   \n",
              "4          1    84029E       RED WOOLLY HOTTIE WHITE HEART.         6   \n",
              "\n",
              "          InvoiceDate  UnitPrice  CustomerID         Country  freq  \\\n",
              "0 2010-12-01 08:26:00       2.55      5504.0  United Kingdom  2313   \n",
              "1 2010-12-01 08:26:00       3.39      5504.0  United Kingdom   355   \n",
              "2 2010-12-01 08:26:00       2.75      5504.0  United Kingdom   296   \n",
              "3 2010-12-01 08:26:00       3.39      5504.0  United Kingdom   474   \n",
              "4 2010-12-01 08:26:00       3.39      5504.0  United Kingdom   452   \n",
              "\n",
              "   time_from_last_order  time_from_last_order_t-1  time_from_last_order_t-2  \\\n",
              "0                  -1.0                      -1.0                      -1.0   \n",
              "1                  -1.0                      -1.0                      -1.0   \n",
              "2                  -1.0                      -1.0                      -1.0   \n",
              "3                  -1.0                      -1.0                      -1.0   \n",
              "4                  -1.0                      -1.0                      -1.0   \n",
              "\n",
              "   time_from_last_order_t-3  time_from_last_order_max  \\\n",
              "0                      -1.0                   84900.0   \n",
              "1                      -1.0                   86040.0   \n",
              "2                      -1.0                   85800.0   \n",
              "3                      -1.0                   86280.0   \n",
              "4                      -1.0                   86280.0   \n",
              "\n",
              "   time_from_last_order_min  time_from_last_order_median  \\\n",
              "0                       0.0                       2700.0   \n",
              "1                       0.0                      11820.0   \n",
              "2                       0.0                      12900.0   \n",
              "3                       0.0                       6480.0   \n",
              "4                       0.0                       5460.0   \n",
              "\n",
              "   time_from_last_order_mean  \n",
              "0               11253.321799  \n",
              "1               32725.423729  \n",
              "2               33462.508475  \n",
              "3               24682.452431  \n",
              "4               21663.858093  "
            ]
          },
          "metadata": {
            "tags": []
          },
          "execution_count": 8
        }
      ]
    },
    {
      "metadata": {
        "id": "XhQhoGla2iio",
        "colab_type": "code",
        "colab": {
          "base_uri": "https://localhost:8080/",
          "height": 323
        },
        "outputId": "8a9072d1-c510-4eb9-c0d4-febcd34bd06c"
      },
      "cell_type": "code",
      "source": [
        "data.isnull().any(axis=0)"
      ],
      "execution_count": 9,
      "outputs": [
        {
          "output_type": "execute_result",
          "data": {
            "text/plain": [
              "InvoiceNo                      False\n",
              "StockCode                      False\n",
              "Description                     True\n",
              "Quantity                       False\n",
              "InvoiceDate                    False\n",
              "UnitPrice                      False\n",
              "CustomerID                      True\n",
              "Country                        False\n",
              "freq                           False\n",
              "time_from_last_order           False\n",
              "time_from_last_order_t-1       False\n",
              "time_from_last_order_t-2       False\n",
              "time_from_last_order_t-3       False\n",
              "time_from_last_order_max       False\n",
              "time_from_last_order_min       False\n",
              "time_from_last_order_median    False\n",
              "time_from_last_order_mean      False\n",
              "dtype: bool"
            ]
          },
          "metadata": {
            "tags": []
          },
          "execution_count": 9
        }
      ]
    },
    {
      "metadata": {
        "id": "cm8s3C8nths9",
        "colab_type": "text"
      },
      "cell_type": "markdown",
      "source": [
        "A chance to order a particular item can be depended on the day of week so let's add it to out features"
      ]
    },
    {
      "metadata": {
        "id": "vc6gyuE3Zn2Z",
        "colab_type": "code",
        "colab": {}
      },
      "cell_type": "code",
      "source": [
        "data['day-of-week'] = data['InvoiceDate'].dt.dayofweek\n"
      ],
      "execution_count": 0,
      "outputs": []
    },
    {
      "metadata": {
        "id": "S4nxRo58uLkB",
        "colab_type": "text"
      },
      "cell_type": "markdown",
      "source": [
        "We have some additional features around time, products, and orders\n",
        "\n",
        "in total we will use the followint features for the model\n",
        "\n",
        "numericat features: (to be normalized)\n",
        "* Quantity \n",
        "* UnitPrice \n",
        "* freq\n",
        "* time_from_last_ordert-1\n",
        "* time_from_last_ordert-2\n",
        "* time_from_last_ordert-3\n",
        "* time_from_last_order_max\n",
        "* time_from_last_order_min\n",
        "* time_from_last_order_median\n",
        "* time_from_last_order_mean\n",
        "\n",
        "categorical features: (to be binarized)\n",
        "* Country\n",
        "* day-of-week\n",
        "\n",
        "The output we well predict is **time_from_last_order**. It gives time that has elapsed from the last order to the next order, from this value we can easilly compute WHEN (date time) the product will be reordered\n",
        "\n",
        "There is still room for more features developement, especially correlating user and basket/invoice, also calculateing probabilities of however for the sake of time I skip it a.t.m."
      ]
    },
    {
      "metadata": {
        "id": "Igj3J0GyLsbE",
        "colab_type": "text"
      },
      "cell_type": "markdown",
      "source": [
        "# Building a dataset for model training and validation"
      ]
    },
    {
      "metadata": {
        "id": "lRQ4RWB8vxTU",
        "colab_type": "code",
        "colab": {
          "base_uri": "https://localhost:8080/",
          "height": 255
        },
        "outputId": "3755a382-0d30-4be4-a281-5011cf9c0c83"
      },
      "cell_type": "code",
      "source": [
        "X=data[['Quantity','UnitPrice','Country','freq',\n",
        "       'time_from_last_order_t-1', 'time_from_last_order_t-2',\n",
        "       'time_from_last_order_t-3', 'time_from_last_order_max',\n",
        "       'time_from_last_order_min', 'time_from_last_order_median',\n",
        "       'time_from_last_order_mean', 'day-of-week']]\n",
        "\n",
        "y=data['time_from_last_order']\n",
        "\n",
        "print(X.isnull().any(axis=0))\n",
        "print(y.isnull().any(axis=0))"
      ],
      "execution_count": 11,
      "outputs": [
        {
          "output_type": "stream",
          "text": [
            "Quantity                       False\n",
            "UnitPrice                      False\n",
            "Country                        False\n",
            "freq                           False\n",
            "time_from_last_order_t-1       False\n",
            "time_from_last_order_t-2       False\n",
            "time_from_last_order_t-3       False\n",
            "time_from_last_order_max       False\n",
            "time_from_last_order_min       False\n",
            "time_from_last_order_median    False\n",
            "time_from_last_order_mean      False\n",
            "day-of-week                    False\n",
            "dtype: bool\n",
            "False\n"
          ],
          "name": "stdout"
        }
      ]
    },
    {
      "metadata": {
        "id": "ka51VBpYL93z",
        "colab_type": "code",
        "colab": {
          "base_uri": "https://localhost:8080/",
          "height": 34
        },
        "outputId": "d0751581-5c52-401a-cc01-9afec5117d38"
      },
      "cell_type": "code",
      "source": [
        "from sklearn.model_selection import train_test_split\n",
        "X_train, X_test, y_train, y_test = train_test_split(X, y, test_size=0.2, random_state=34)\n",
        "print(X_train.shape, X_test.shape, y_train.shape, y_test.shape)"
      ],
      "execution_count": 12,
      "outputs": [
        {
          "output_type": "stream",
          "text": [
            "(433527, 12) (108382, 12) (433527,) (108382,)\n"
          ],
          "name": "stdout"
        }
      ]
    },
    {
      "metadata": {
        "id": "AruqRUcKMk_L",
        "colab_type": "text"
      },
      "cell_type": "markdown",
      "source": [
        "# Data transformation mapper\n",
        "We need to standarize and binarize our features.\n",
        "To make our life a bit easier we employ DataFrameMapper."
      ]
    },
    {
      "metadata": {
        "id": "_Wy1QI53M1Aa",
        "colab_type": "code",
        "colab": {
          "base_uri": "https://localhost:8080/",
          "height": 173
        },
        "outputId": "47c6c0a7-acde-4f9a-e731-d2f3d74376d1"
      },
      "cell_type": "code",
      "source": [
        "!pip install sklearn-pandas\n",
        "\n",
        "from sklearn.preprocessing import StandardScaler, LabelBinarizer, LabelEncoder, OneHotEncoder\n",
        "from sklearn_pandas import DataFrameMapper\n",
        "\n",
        "mapper = DataFrameMapper([\n",
        "  (['Quantity','UnitPrice','freq',\\\n",
        "   'time_from_last_order_t-1', 'time_from_last_order_t-2', 'time_from_last_order_t-3',\\\n",
        "    'time_from_last_order_max', 'time_from_last_order_min','time_from_last_order_median','time_from_last_order_mean'],\\\n",
        "      StandardScaler()),\n",
        "   ('day-of-week', LabelBinarizer()),\n",
        "   ('Country', LabelBinarizer())\n",
        "])\n",
        "\n",
        "#x=mapper.fit_transform(X)\n",
        "#x.shape"
      ],
      "execution_count": 13,
      "outputs": [
        {
          "output_type": "stream",
          "text": [
            "Requirement already satisfied: sklearn-pandas in /usr/local/lib/python3.6/dist-packages (1.6.0)\r\n",
            "Requirement already satisfied: scikit-learn>=0.15.0 in /usr/local/lib/python3.6/dist-packages (from sklearn-pandas) (0.19.1)\r\n",
            "Requirement already satisfied: numpy>=1.6.1 in /usr/local/lib/python3.6/dist-packages (from sklearn-pandas) (1.14.5)\r\n",
            "Requirement already satisfied: pandas>=0.11.0 in /usr/local/lib/python3.6/dist-packages (from sklearn-pandas) (0.22.0)\r\n",
            "Requirement already satisfied: scipy>=0.14 in /usr/local/lib/python3.6/dist-packages (from sklearn-pandas) (0.19.1)\r\n",
            "Requirement already satisfied: pytz>=2011k in /usr/local/lib/python3.6/dist-packages (from pandas>=0.11.0->sklearn-pandas) (2018.5)\r\n",
            "Requirement already satisfied: python-dateutil>=2 in /usr/local/lib/python3.6/dist-packages (from pandas>=0.11.0->sklearn-pandas) (2.5.3)\r\n",
            "Requirement already satisfied: six>=1.5 in /usr/local/lib/python3.6/dist-packages (from python-dateutil>=2->pandas>=0.11.0->sklearn-pandas) (1.11.0)\r\n"
          ],
          "name": "stdout"
        }
      ]
    },
    {
      "metadata": {
        "id": "R8_DcU2ANGW1",
        "colab_type": "text"
      },
      "cell_type": "markdown",
      "source": [
        "# Model based on NN (Keras)"
      ]
    },
    {
      "metadata": {
        "id": "QOtcGDxlR3ab",
        "colab_type": "code",
        "colab": {}
      },
      "cell_type": "code",
      "source": [
        "from sklearn.metrics import mean_absolute_error\n",
        "from keras.models import Sequential\n",
        "from keras.layers import Dense\n",
        "from keras.wrappers.scikit_learn import KerasRegressor\n",
        "from sklearn.pipeline import Pipeline\n",
        "\n",
        "def nn_model():\n",
        "  size_n = 54 #number of columns after DataMapper transformation\n",
        "  # create model\n",
        "  model = Sequential()\n",
        "  model.add(Dense(size_n, input_dim=size_n, kernel_initializer='random_normal', activation='relu'))\n",
        "  model.add(Dense(size_n, kernel_initializer='random_normal', activation='relu'))\n",
        "  #model.add(Dense(size_n*2, kernel_initializer='random_normal', activation='relu'))\n",
        "  #model.add(Dense(size_n*2, kernel_initializer='random_normal', activation='relu'))\n",
        "  model.add(Dense(1, kernel_initializer='random_normal'))\n",
        "  # Compile model\n",
        "  model.compile(loss='mean_absolute_error', optimizer='sgd')\n",
        "  return model\n",
        "\n",
        "reg =  KerasRegressor(build_fn=nn_model, epochs=5, batch_size=1000, verbose=1)\n",
        "\n",
        "#pipeline.fit_transform(x_train, y_train[\"time_from_last_order\"])"
      ],
      "execution_count": 0,
      "outputs": []
    },
    {
      "metadata": {
        "id": "3nPYVBu5NwMs",
        "colab_type": "text"
      },
      "cell_type": "markdown",
      "source": [
        "Pipeline allows us to combine various steps of the process, data preprocessing, model fitting, and with it we can later quickly add, change, move steps. Can be also usefull for some kind of grid search and evaluating multiple models. "
      ]
    },
    {
      "metadata": {
        "id": "CLz6liSmWAyr",
        "colab_type": "code",
        "colab": {}
      },
      "cell_type": "code",
      "source": [
        "pipeline = Pipeline([('mapper', mapper),\n",
        "                    ('reg', reg)\n",
        "                   ])"
      ],
      "execution_count": 0,
      "outputs": []
    },
    {
      "metadata": {
        "id": "OnqKsuwtOay1",
        "colab_type": "text"
      },
      "cell_type": "markdown",
      "source": [
        "No we are ready to fir our model...."
      ]
    },
    {
      "metadata": {
        "id": "kbwRCg4BQolZ",
        "colab_type": "code",
        "colab": {
          "base_uri": "https://localhost:8080/",
          "height": 258
        },
        "outputId": "5d822601-7c5c-46a3-f01f-d17ce1c4de64"
      },
      "cell_type": "code",
      "source": [
        "pipeline.fit(X_train, y_train)"
      ],
      "execution_count": 20,
      "outputs": [
        {
          "output_type": "stream",
          "text": [
            "Epoch 1/5\n",
            "433527/433527 [==============================] - 2s 5us/step - loss: 28626.2803\n",
            "Epoch 2/5\n",
            "433527/433527 [==============================] - 2s 5us/step - loss: 24864.0412\n",
            "Epoch 3/5\n",
            "433527/433527 [==============================] - 2s 5us/step - loss: 24697.5070\n",
            "Epoch 4/5\n",
            "433527/433527 [==============================] - 2s 5us/step - loss: 24512.5425\n",
            "Epoch 5/5\n",
            "433527/433527 [==============================] - 2s 5us/step - loss: 23523.7251\n"
          ],
          "name": "stdout"
        },
        {
          "output_type": "execute_result",
          "data": {
            "text/plain": [
              "Pipeline(memory=None,\n",
              "     steps=[('mapper', DataFrameMapper(default=False, df_out=False,\n",
              "        features=[(['Quantity', 'UnitPrice', 'freq', 'time_from_last_order_t-1', 'time_from_last_order_t-2', 'time_from_last_order_t-3', 'time_from_last_order_max', 'time_from_last_order_min', 'time_from_last_order_median', 'time_from_la...lse, sparse=False)), ('reg', <keras.wrappers.scikit_learn.KerasRegressor object at 0x7f467ee65198>)])"
            ]
          },
          "metadata": {
            "tags": []
          },
          "execution_count": 20
        }
      ]
    },
    {
      "metadata": {
        "id": "gfQvEc7JQs9q",
        "colab_type": "text"
      },
      "cell_type": "markdown",
      "source": [
        "...and evaluate it"
      ]
    },
    {
      "metadata": {
        "id": "qjWxBOsXWXJE",
        "colab_type": "code",
        "colab": {
          "base_uri": "https://localhost:8080/",
          "height": 68
        },
        "outputId": "a72406ec-573e-45e2-d8df-90876dcdfc5e"
      },
      "cell_type": "code",
      "source": [
        "y_train_pred = pipeline.predict(X_train)\n",
        "y_test_pred = pipeline.predict(X_test)\n",
        "\n",
        "print('Mean absolute error in hours: {}, test {}'.format(\n",
        "    mean_absolute_error(y_train,y_train_pred)/60/60,\n",
        "    mean_absolute_error(y_test,y_test_pred)/60/60 ) )"
      ],
      "execution_count": 21,
      "outputs": [
        {
          "output_type": "stream",
          "text": [
            "433527/433527 [==============================] - 1s 2us/step\n",
            "108382/108382 [==============================] - 0s 2us/step\n",
            "Mean absolute error in hours: 6.4383015056585045, test 6.47693499336112\n"
          ],
          "name": "stdout"
        }
      ]
    },
    {
      "metadata": {
        "id": "z5apIvK3EJAV",
        "colab_type": "text"
      },
      "cell_type": "markdown",
      "source": [
        "# Model based on ensemble learning (XGBRegressor)\n",
        "Additionally to a new model we will do some hyperpatameter optymization with RandomizedSearchCV. We cannot go crazy with nymber of iterations and params due to limited resurces.  "
      ]
    },
    {
      "metadata": {
        "id": "zQS1qIotcMRy",
        "colab_type": "code",
        "colab": {
          "base_uri": "https://localhost:8080/",
          "height": 68
        },
        "outputId": "84f6f9f7-1048-4f80-f985-69629c7030ef"
      },
      "cell_type": "code",
      "source": [
        "!pip install xgboost\n",
        "from xgboost.sklearn import XGBRegressor\n",
        "from sklearn.model_selection import RandomizedSearchCV\n",
        "\n",
        "import scipy.stats as st\n",
        "\n",
        "one_to_left = st.beta(10, 1)  \n",
        "from_zero_positive = st.expon(0, 50)\n",
        "\n",
        "params = {  \n",
        "    \"n_estimators\": st.randint(3, 20),\n",
        "    \"max_depth\": st.randint(3, 20),\n",
        "    \"learning_rate\": st.uniform(0.01, 0.4),\n",
        "    \"colsample_bytree\": one_to_left,\n",
        "    \"subsample\": one_to_left,\n",
        "    \"gamma\": st.uniform(0, 10),\n",
        "    'reg_alpha': from_zero_positive,\n",
        "    \"min_child_weight\": from_zero_positive,\n",
        "}\n",
        "\n",
        "\n",
        "xbst = XGBRegressor(nthread=-1)  \n",
        "\n",
        "gs = RandomizedSearchCV(xbst, params, n_jobs=1, verbose=3, n_iter=2)  "
      ],
      "execution_count": 22,
      "outputs": [
        {
          "output_type": "stream",
          "text": [
            "Requirement already satisfied: xgboost in /usr/local/lib/python3.6/dist-packages (0.7.post4)\r\n",
            "Requirement already satisfied: numpy in /usr/local/lib/python3.6/dist-packages (from xgboost) (1.14.5)\r\n",
            "Requirement already satisfied: scipy in /usr/local/lib/python3.6/dist-packages (from xgboost) (0.19.1)\r\n"
          ],
          "name": "stdout"
        }
      ]
    },
    {
      "metadata": {
        "id": "cgRih0XqPXQF",
        "colab_type": "text"
      },
      "cell_type": "markdown",
      "source": [
        "Let's fit the model and see what params perform best."
      ]
    },
    {
      "metadata": {
        "id": "OMWBnTAFhVyL",
        "colab_type": "code",
        "colab": {
          "base_uri": "https://localhost:8080/",
          "height": 496
        },
        "outputId": "3b71da9f-df2f-4183-d722-309ee2e46475"
      },
      "cell_type": "code",
      "source": [
        "gs.fit(mapper.fit_transform(X_train), y_train)  "
      ],
      "execution_count": 23,
      "outputs": [
        {
          "output_type": "stream",
          "text": [
            "Fitting 3 folds for each of 2 candidates, totalling 6 fits\n",
            "[CV] colsample_bytree=0.8156863593812622, gamma=0.010942309939715456, learning_rate=0.37469583515924926, max_depth=17, min_child_weight=3.96321861348904, n_estimators=18, reg_alpha=304.57883841326, subsample=0.9539889972431136 \n",
            "[CV]  colsample_bytree=0.8156863593812622, gamma=0.010942309939715456, learning_rate=0.37469583515924926, max_depth=17, min_child_weight=3.96321861348904, n_estimators=18, reg_alpha=304.57883841326, subsample=0.9539889972431136, score=0.1130244756483839, total=  39.9s\n",
            "[CV] colsample_bytree=0.8156863593812622, gamma=0.010942309939715456, learning_rate=0.37469583515924926, max_depth=17, min_child_weight=3.96321861348904, n_estimators=18, reg_alpha=304.57883841326, subsample=0.9539889972431136 \n"
          ],
          "name": "stdout"
        },
        {
          "output_type": "stream",
          "text": [
            "[Parallel(n_jobs=1)]: Done   1 out of   1 | elapsed:   42.0s remaining:    0.0s\n"
          ],
          "name": "stderr"
        },
        {
          "output_type": "stream",
          "text": [
            "[CV]  colsample_bytree=0.8156863593812622, gamma=0.010942309939715456, learning_rate=0.37469583515924926, max_depth=17, min_child_weight=3.96321861348904, n_estimators=18, reg_alpha=304.57883841326, subsample=0.9539889972431136, score=0.11503519771939752, total=  39.1s\n",
            "[CV] colsample_bytree=0.8156863593812622, gamma=0.010942309939715456, learning_rate=0.37469583515924926, max_depth=17, min_child_weight=3.96321861348904, n_estimators=18, reg_alpha=304.57883841326, subsample=0.9539889972431136 \n"
          ],
          "name": "stdout"
        },
        {
          "output_type": "stream",
          "text": [
            "[Parallel(n_jobs=1)]: Done   2 out of   2 | elapsed:  1.4min remaining:    0.0s\n"
          ],
          "name": "stderr"
        },
        {
          "output_type": "stream",
          "text": [
            "[CV]  colsample_bytree=0.8156863593812622, gamma=0.010942309939715456, learning_rate=0.37469583515924926, max_depth=17, min_child_weight=3.96321861348904, n_estimators=18, reg_alpha=304.57883841326, subsample=0.9539889972431136, score=0.11334424292062506, total=  38.9s\n",
            "[CV] colsample_bytree=0.8434422886186196, gamma=3.814293165295121, learning_rate=0.058658770359523514, max_depth=27, min_child_weight=86.30976670411589, n_estimators=28, reg_alpha=83.74309934616808, subsample=0.9882308918621004 \n",
            "[CV]  colsample_bytree=0.8434422886186196, gamma=3.814293165295121, learning_rate=0.058658770359523514, max_depth=27, min_child_weight=86.30976670411589, n_estimators=28, reg_alpha=83.74309934616808, subsample=0.9882308918621004, score=0.17582781833387662, total= 1.3min\n",
            "[CV] colsample_bytree=0.8434422886186196, gamma=3.814293165295121, learning_rate=0.058658770359523514, max_depth=27, min_child_weight=86.30976670411589, n_estimators=28, reg_alpha=83.74309934616808, subsample=0.9882308918621004 \n",
            "[CV]  colsample_bytree=0.8434422886186196, gamma=3.814293165295121, learning_rate=0.058658770359523514, max_depth=27, min_child_weight=86.30976670411589, n_estimators=28, reg_alpha=83.74309934616808, subsample=0.9882308918621004, score=0.1757650355249577, total= 1.3min\n",
            "[CV] colsample_bytree=0.8434422886186196, gamma=3.814293165295121, learning_rate=0.058658770359523514, max_depth=27, min_child_weight=86.30976670411589, n_estimators=28, reg_alpha=83.74309934616808, subsample=0.9882308918621004 \n",
            "[CV]  colsample_bytree=0.8434422886186196, gamma=3.814293165295121, learning_rate=0.058658770359523514, max_depth=27, min_child_weight=86.30976670411589, n_estimators=28, reg_alpha=83.74309934616808, subsample=0.9882308918621004, score=0.1781996434937677, total= 1.3min\n"
          ],
          "name": "stdout"
        },
        {
          "output_type": "stream",
          "text": [
            "[Parallel(n_jobs=1)]: Done   6 out of   6 | elapsed:  6.1min finished\n"
          ],
          "name": "stderr"
        },
        {
          "output_type": "execute_result",
          "data": {
            "text/plain": [
              "RandomizedSearchCV(cv=None, error_score='raise',\n",
              "          estimator=XGBRegressor(base_score=0.5, booster='gbtree', colsample_bylevel=1,\n",
              "       colsample_bytree=1, gamma=0, learning_rate=0.1, max_delta_step=0,\n",
              "       max_depth=3, min_child_weight=1, missing=None, n_estimators=100,\n",
              "       n_jobs=1, nthread=-1, objective='reg:linear', random_state=0,\n",
              "       reg_alpha=0, reg_lambda=1, scale_pos_weight=1, seed=None,\n",
              "       silent=True, subsample=1),\n",
              "          fit_params=None, iid=True, n_iter=2, n_jobs=1,\n",
              "          param_distributions={'n_estimators': <scipy.stats._distn_infrastructure.rv_frozen object at 0x7f467ec39518>, 'max_depth': <scipy.stats._distn_infrastructure.rv_frozen object at 0x7f467ec39390>, 'learning_rate': <scipy.stats._distn_infrastructure.rv_frozen object at 0x7f467ec39550>, 'colsample_bytree...e653c8>, 'min_child_weight': <scipy.stats._distn_infrastructure.rv_frozen object at 0x7f467ee653c8>},\n",
              "          pre_dispatch='2*n_jobs', random_state=None, refit=True,\n",
              "          return_train_score='warn', scoring=None, verbose=3)"
            ]
          },
          "metadata": {
            "tags": []
          },
          "execution_count": 23
        }
      ]
    },
    {
      "metadata": {
        "id": "t7ccLdlVPjpU",
        "colab_type": "text"
      },
      "cell_type": "markdown",
      "source": [
        "Finally, we evaluate the best estimator selected with the RandomizedSearchCV."
      ]
    },
    {
      "metadata": {
        "id": "p4A4MtWjoiMP",
        "colab_type": "code",
        "colab": {
          "base_uri": "https://localhost:8080/",
          "height": 34
        },
        "outputId": "b8ff6e31-b0f8-4156-c879-e5d294150992"
      },
      "cell_type": "code",
      "source": [
        "y_train_pred = gs.best_estimator_.predict(mapper.transform(X_train)) \n",
        "y_test_pred = gs.best_estimator_.predict(mapper.transform(X_test))\n",
        "\n",
        "print('Mean absolute error in hours: {}, test {}'.format(\n",
        "    mean_absolute_error(y_train,y_train_pred)/60/60,\n",
        "    mean_absolute_error(y_test,y_test_pred)/60/60 ) )"
      ],
      "execution_count": 25,
      "outputs": [
        {
          "output_type": "stream",
          "text": [
            "Mean absolute error in hours: 6.33958123521707, test 6.763255770622824\n"
          ],
          "name": "stdout"
        }
      ]
    }
  ]
}